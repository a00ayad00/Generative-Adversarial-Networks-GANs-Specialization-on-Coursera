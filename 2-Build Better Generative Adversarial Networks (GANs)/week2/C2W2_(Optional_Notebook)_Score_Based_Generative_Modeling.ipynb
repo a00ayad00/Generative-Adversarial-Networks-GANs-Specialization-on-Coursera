{
  "nbformat": 4,
  "nbformat_minor": 0,
  "metadata": {
    "colab": {
      "name": "C2W2: (Optional Notebook) Score-Based Generative Modeling.ipynb",
      "provenance": []
    },
    "kernelspec": {
      "name": "python3",
      "display_name": "Python 3"
    },
    "accelerator": "GPU"
  },
  "cells": [
    {
      "cell_type": "markdown",
      "metadata": {
        "id": "21v75FhSkfCq"
      },
      "source": [
        "# Score-Based Generative Modeling\n",
        "\n",
        "*Please note that this is an optional notebook meant to introduce more advanced concepts. If you’re up for a challenge, take a look and don’t worry if you can’t follow everything. There is no code to implement—only some cool code for you to learn and run!*\n",
        "\n",
        "### Goals\n",
        "This is a hitchhiker's guide to score-based generative models, a family of approaches based on [estimating gradients of the data distribution](https://arxiv.org/abs/1907.05600). They have obtained high-quality samples comparable to GANs (like below, figure from [this paper](https://arxiv.org/abs/2006.09011)) without requiring adversarial training, and are considered by some to be [the new contender to GANs](https://ajolicoeur.wordpress.com/the-new-contender-to-gans-score-matching-with-langevin-sampling/).\n",
        "\n",
        "![ncsnv2](https://github.com/ermongroup/ncsnv2/blob/master/assets/samples.jpg?raw=true)\n",
        "\n"
      ]
    },
    {
      "cell_type": "markdown",
      "metadata": {
        "id": "XCR6m0HjWGVV"
      },
      "source": [
        "## Introduction\n",
        "\n",
        "### Score and Score-Based Models\n",
        "Given a probablity density function $p(\\mathbf{x})$, we define the *score* as $$\\nabla_\\mathbf{x} \\log p(\\mathbf{x}).$$ As you might guess, score-based generative models are trained to estimate $\\nabla_\\mathbf{x} \\log p(\\mathbf{x})$. Unlike likelihood-based models such as flow models or autoregressive models, score-based models do not have to be normalized and are easier to parameterize. For example, consider a non-normalized statistical model $p_\\theta(\\mathbf{x}) = \\frac{e^{-E_\\theta(\\mathbf{x})}}{Z_\\theta}$, where $E_\\theta(\\mathbf{x}) \\in \\mathbb{R}$ is called the energy function and $Z_\\theta$ is an unknown normalizing constant that makes $p_\\theta(\\mathbf{x})$ a proper probability density function. The energy function is typically parameterized by a flexible neural network. When training it as a likelihood model, we need to know the normalizing constant $Z_\\theta$ by computing complex high-dimensional integrals, which is typically intractable. In constrast, when computing its score, we obtain $\\nabla_\\mathbf{x} \\log p_\\theta(\\mathbf{x}) = -\\nabla_\\mathbf{x} E_\\theta(\\mathbf{x})$ which does not require computing the normalizing constant $Z_\\theta$.\n",
        "\n",
        "In fact, any neural network that maps an input vector $\\mathbf{x} \\in \\mathbb{R}^d$ to an output vector $\\mathbf{y} \\in \\mathbb{R}^d$ can be used as a score-based model, as long as the output and input have the same dimensionality. This yields huge flexibility in choosing model architectures.\n",
        "\n",
        "### Perturbing Data with a Diffusion Process\n",
        "\n",
        "In order to generate samples with score-based models, we need to consider a [diffusion process](https://en.wikipedia.org/wiki/Diffusion_process) that corrupts data slowly into random noise. Scores will arise when we reverse this diffusion process for sample generation. You will see this later in the notebook.\n",
        "\n",
        "A diffusion process is a [stochastic process](https://en.wikipedia.org/wiki/Stochastic_process#:~:text=A%20stochastic%20or%20random%20process%20can%20be%20defined%20as%20a,an%20element%20in%20the%20set.) similar to [Brownian motion](https://en.wikipedia.org/wiki/Brownian_motion). Their paths are like the trajectory of a particle submerged in a flowing fluid, which moves randomly due to unpredictable collisions with other particles. Let $\\{\\mathbf{x}(t) \\in \\mathbb{R}^d \\}_{t=0}^T$ be a diffusion process, indexed by the continuous time variable $t\\in [0,T]$. A diffusion process is governed by a stochastic differential equation (SDE), in the following form\n",
        "\n",
        "\\begin{align*}\n",
        "d \\mathbf{x} = \\mathbf{f}(\\mathbf{x}, t) d t + g(t) d \\mathbf{w},\n",
        "\\end{align*}\n",
        "\n",
        "where $\\mathbf{f}(\\cdot, t): \\mathbb{R}^d \\to \\mathbb{R}^d$ is called the *drift coefficient* of the SDE, $g(t) \\in \\mathbb{R}$ is called the *diffusion coefficient*, and $\\mathbf{w}$ represents the standard Brownian motion. You can understand an SDE as a stochastic generalization to ordinary differential equations (ODEs). Particles moving according to an SDE not only follows the deterministic drift $\\mathbf{f}(\\mathbf{x}, t)$, but are also affected by the random noise coming from $g(t) d\\mathbf{w}$. \n",
        "\n",
        "For score-based generative modeling, we will choose a diffusion process such that $\\mathbf{x}(0) \\sim p_0$, where we have a dataset of i.i.d. samples, and $\\mathbf{x}(T) \\sim p_T$, for which we have a tractable form to sample from.\n",
        "\n",
        "### Reversing the Diffusion Process Yields Score-Based Generative Models\n",
        "By starting from a sample from $p_T$ and reversing the diffusion process, we will be able to obtain a sample from $p_\\text{data}$. Crucially, the reverse process is a diffusion process running backwards in time. It is given by the following reverse-time SDE\n",
        "\n",
        "\\begin{align}\n",
        "  d\\mathbf{x} = [\\mathbf{f}(\\mathbf{x}, t) - g^2(t)\\nabla_{\\mathbf{x}}\\log p_t(\\mathbf{x})] dt + g(t) d\\bar{\\mathbf{w}},\n",
        "\\end{align}\n",
        "\n",
        "where $\\bar{\\mathbf{w}}$ is a Brownian motion in the reverse time direction, and $dt$ here represents an infinitesimal negative time step. Here $p_t(\\mathbf{x})$ represents the distribution of $\\mathbf{x}(t)$. This reverse SDE can be computed once we know the drift and diffusion coefficients of the forward SDE, as well as the score of $p_t(\\mathbf{x})$ for each $t\\in[0, T]$.\n",
        "\n",
        "The overall intuition of score-based generative modeling with SDEs can be summarized in the illustration below\n",
        "![sde schematic](https://github.com/https-deeplearning-ai/GANs-Public/blob/master/diffusion_schematic.jpg?raw=true)\n",
        "\n",
        "### Score Estimation\n",
        "\n",
        "Based on the above intuition, we can use the time-dependent score function $\\nabla_\\mathbf{x} \\log p_t(\\mathbf{x})$ to construct the reverse-time SDE, and then solve it numerically to obtain samples from $p_0$ using samples from a prior distribution $p_T$. We can train a time-dependent score-based model $s_\\theta(\\mathbf{x}, t)$ to approximate $\\nabla_\\mathbf{x} \\log p_t(\\mathbf{x})$, using the following weighted sum of [denoising score matching](http://www.iro.umontreal.ca/~vincentp/Publications/smdae_techreport.pdf) objectives.\n",
        "\n",
        "\\begin{align}\n",
        "\\min_\\theta \\mathbb{E}_{t\\sim \\mathcal{U}(0, T)} [\\lambda(t) \\mathbb{E}_{\\mathbf{x}(0) \\sim p_0(\\mathbf{x})}\\mathbf{E}_{\\mathbf{x}(t) \\sim p_{0t}(\\mathbf{x}(t) \\mid \\mathbf{x}(0))}[ \\|s_\\theta(\\mathbf{x}(t), t) - \\nabla_{\\mathbf{x}(t)}\\log p_{0t}(\\mathbf{x}(t) \\mid \\mathbf{x}(0))\\|_2^2]],\n",
        "\\end{align}\n",
        "where $\\mathcal{U}(0,T)$ is a uniform distribution over $[0, T]$, $p_{0t}(\\mathbf{x}(t) \\mid \\mathbf{x}(0))$ denotes the transition probability from $\\mathbf{x}(0)$ to $\\mathbf{x}(t)$, and $\\lambda(t) \\in \\mathbb{R}^+$ denotes a continuous weighting function.\n",
        "\n",
        "In the objective, the expectation over $\\mathbf{x}(0)$ can be estimated with empirical means over data samples from $p_0$. The expectation over $\\mathbf{x}(t)$ can be estimated by sampling from $p_{0t}(\\mathbf{x}(t) \\mid \\mathbf{x}(0))$, which is efficient when the drift coefficient $\\mathbf{f}(\\mathbf{x}, t)$ is affine. The weight function $\\lambda(t)$ is typically chosen to be inverse proportional to $\\mathbb{E}[\\|\\nabla_{\\mathbf{x}}\\log p_{0t}(\\mathbf{x}(t) \\mid \\mathbf{x}(0)) \\|_2^2]$.\n",
        "\n"
      ]
    },
    {
      "cell_type": "markdown",
      "metadata": {
        "id": "GFuMaPov5HlV"
      },
      "source": [
        "### Time-Dependent Score-Based Model\n",
        "\n",
        "There are no restrictions on the network architecture of time-dependent score-based models, except that their output should have the same dimensionality as the input, and they should be conditioned on time.\n",
        "\n",
        "Several useful tips on architecture choice:\n",
        "* It usually performs well to use the [U-net](https://arxiv.org/abs/1505.04597) architecture as the backbone of the score network $s_\\theta(\\mathbf{x}, t)$,\n",
        "\n",
        "* We can incorporate the time information via [Gaussian random features](https://arxiv.org/abs/2006.10739). Specifically, we first sample $\\omega \\sim \\mathcal{N}(\\mathbf{0}, s^2\\mathbf{I})$ which is subsequently fixed for the model (i.e., not learnable). For a time step $t$, the corresponding Gaussian random feature is defined as \n",
        "\\begin{align}\n",
        "  [\\sin(2\\pi \\omega t) ; \\cos(2\\pi \\omega t)],\n",
        "\\end{align}\n",
        "where $[\\vec{a} ; \\vec{b}]$ denotes the concatenation of vector $\\vec{a}$ and $\\vec{b}$. This Gaussian random feature can be used as an encoding for time step $t$ so that the score network can condition on $t$ by incorporating this encoding. We will see this further in the code.\n",
        "\n",
        "* We can rescale the output of the U-net by $1/\\sqrt{\\mathbb{E}[\\|\\nabla_{\\mathbf{x}}\\log p_{0t}(\\mathbf{x}(t) \\mid \\mathbf{x}(0)) \\|_2^2]}$. This is because the optimal $s_\\theta(\\mathbf{x}(t), t)$ has an $\\ell_2$-norm close to $\\mathbb{E}[\\|\\nabla_{\\mathbf{x}}\\log p_{0t}(\\mathbf{x}(t) \\mid \\mathbf{x}(0))]\\|_2$, and the rescaling helps capture the norm of the true score. Recall that the training objective contains sums of the form\n",
        "\\begin{align*}\n",
        "\\mathbf{E}_{\\mathbf{x}(t) \\sim p_{0t}(\\mathbf{x}(t) \\mid \\mathbf{x}(0))}[ \\|s_\\theta(\\mathbf{x}(t), t) - \\nabla_{\\mathbf{x}(t)}\\log p_{0t}(\\mathbf{x}(t) \\mid \\mathbf{x}(0))\\|_2^2]].\n",
        "\\end{align*}\n",
        "Therefore, it is natural to expect that the optimal score model $s_\\theta(\\mathbf{x}, t) \\approx \\nabla_{\\mathbf{x}(t)} \\log p_{0t}(\\mathbf{x}(t) \\mid \\mathbf{x}(0))$.\n",
        "\n",
        "* Use [exponential moving average](https://discuss.pytorch.org/t/how-to-apply-exponential-moving-average-decay-for-variables/10856/3) (EMA) of weights when sampling. This can greatly improve sample quality, but requires slightly longer training time, and requires more work in implementation. We do not include this in this tutorial, but highly recommend it when you employ score-based generative modeling to tackle more challenging real problems."
      ]
    },
    {
      "cell_type": "code",
      "metadata": {
        "id": "YyQtV7155Nht",
        "cellView": "form"
      },
      "source": [
        "#@title Defining a time-dependent score-based model (double click to expand or collapse)\n",
        "\n",
        "import torch\n",
        "import torch.nn as nn\n",
        "import torch.nn.functional as F\n",
        "import numpy as np\n",
        "\n",
        "class GaussianFourierProjection(nn.Module):\n",
        "  \"\"\"Gaussian random features for encoding time steps.\"\"\"  \n",
        "  def __init__(self, embed_dim, scale=8.):\n",
        "    super().__init__()\n",
        "    # Randomly sample weights during initialization. These weights are fixed \n",
        "    # during optimization and are not trainable.\n",
        "    self.W = nn.Parameter(torch.randn(embed_dim // 2) * scale, requires_grad=False)\n",
        "  def forward(self, x):\n",
        "    x_proj = x[:, None] * self.W[None, :] * 2 * np.pi\n",
        "    return torch.cat([torch.sin(x_proj), torch.cos(x_proj)], dim=-1)\n",
        "\n",
        "\n",
        "class Dense(nn.Module):\n",
        "  \"\"\"A fully connected layer that reshapes outputs to feature maps.\"\"\"\n",
        "  def __init__(self, input_dim, output_dim):\n",
        "    super().__init__()\n",
        "    self.dense = nn.Linear(input_dim, output_dim)\n",
        "  def forward(self, x):\n",
        "    return self.dense(x)[..., None, None]\n",
        "\n",
        "\n",
        "class ScoreNet(nn.Module):\n",
        "  \"\"\"A time-dependent score-based model built upon U-Net architecture.\"\"\"\n",
        "\n",
        "  def __init__(self, noise_scale, channels=[32, 64, 128, 256], embed_dim=256):\n",
        "    \"\"\"\n",
        "      Initialize a time-dependent score-based network.\n",
        "\n",
        "      noise_scale: \n",
        "        a function that takes time t and gives the variance of \n",
        "        the perturbation kernel p_{0t}(x(t) | x(0)).\n",
        "      channels: \n",
        "        the number of channels for feature maps of each resolution.\n",
        "      embed_dim:\n",
        "        the dimensionality of Gaussian random feature embeddings.\n",
        "    \"\"\"\n",
        "    super().__init__()\n",
        "    # Gaussian random feature embedding layer for time\n",
        "    self.embed = GaussianFourierProjection(embed_dim=embed_dim)    \n",
        "    # Encoding layers where the resolution decreases\n",
        "    self.conv1 = nn.Conv2d(1, channels[0], 3, stride=1, bias=False)\n",
        "    self.dense1 = Dense(embed_dim, channels[0])\n",
        "    self.gnorm1 = nn.GroupNorm(4, num_channels=channels[0])\n",
        "    self.conv2 = nn.Conv2d(channels[0], channels[1], 3, stride=2, bias=False)\n",
        "    self.dense2 = Dense(embed_dim, channels[1])\n",
        "    self.gnorm2 = nn.GroupNorm(32, num_channels=channels[1])\n",
        "    self.conv3 = nn.Conv2d(channels[1], channels[2], 3, stride=2, bias=False)\n",
        "    self.dense3 = Dense(embed_dim, channels[2])\n",
        "    self.gnorm3 = nn.GroupNorm(32, num_channels=channels[2])\n",
        "    self.conv4 = nn.Conv2d(channels[2], channels[3], 3, stride=2, bias=False)\n",
        "    self.dense4 = Dense(embed_dim, channels[3])\n",
        "    self.gnorm4 = nn.GroupNorm(32, num_channels=channels[3])    \n",
        "\n",
        "    # Decoding layers where the resolution increases\n",
        "    self.tconv4 = nn.ConvTranspose2d(channels[3], channels[2], 3, stride=2, bias=False)\n",
        "    self.dense5 = Dense(embed_dim, channels[2])\n",
        "    self.tgnorm4 = nn.GroupNorm(32, num_channels=channels[2])\n",
        "    self.tconv3 = nn.ConvTranspose2d(channels[2] + channels[2], channels[1], 3, stride=2, bias=False, output_padding=1)    \n",
        "    self.dense6 = Dense(embed_dim, channels[1])\n",
        "    self.tgnorm3 = nn.GroupNorm(32, num_channels=channels[1])\n",
        "    self.tconv2 = nn.ConvTranspose2d(channels[1] + channels[1], channels[0], 3, stride=2, bias=False, output_padding=1)    \n",
        "    self.dense7 = Dense(embed_dim, channels[0])\n",
        "    self.tgnorm2 = nn.GroupNorm(32, num_channels=channels[0])\n",
        "    self.tconv1 = nn.ConvTranspose2d(channels[0] + channels[0], 1, 3, stride=1)\n",
        "    \n",
        "    # The swish activation function\n",
        "    self.act = lambda x: x * torch.sigmoid(x)\n",
        "    self.noise_scale = noise_scale\n",
        "  \n",
        "  def forward(self, x, t): \n",
        "    # Obtain the Gaussian random feature embedding for t   \n",
        "    embed = self.act(self.embed(t))    \n",
        "    # Encoding path\n",
        "    h1 = self.conv1(x)    \n",
        "    ## Incorporate information from t\n",
        "    h1 += self.dense1(embed)\n",
        "    ## Group normalization\n",
        "    h1 = self.gnorm1(h1)\n",
        "    h1 = self.act(h1)\n",
        "    h2 = self.conv2(h1)\n",
        "    h2 += self.dense2(embed)\n",
        "    h2 = self.gnorm2(h2)\n",
        "    h2 = self.act(h2)\n",
        "    h3 = self.conv3(h2)\n",
        "    h3 += self.dense3(embed)\n",
        "    h3 = self.gnorm3(h3)\n",
        "    h3 = self.act(h3)\n",
        "    h4 = self.conv4(h3)\n",
        "    h4 += self.dense4(embed)\n",
        "    h4 = self.gnorm4(h4)\n",
        "    h4 = self.act(h4)\n",
        "\n",
        "    # Decoding path\n",
        "    h = self.tconv4(h4)\n",
        "    ## Skip connection from the encoding path\n",
        "    h += self.dense5(embed)\n",
        "    h = self.tgnorm4(h)\n",
        "    h = self.act(h)\n",
        "    h = self.tconv3(torch.cat([h, h3], dim=1))\n",
        "    h += self.dense6(embed)\n",
        "    h = self.tgnorm3(h)\n",
        "    h = self.act(h)\n",
        "    h = self.tconv2(torch.cat([h, h2], dim=1))\n",
        "    h += self.dense7(embed)\n",
        "    h = self.tgnorm2(h)\n",
        "    h = self.act(h)\n",
        "    h = self.tconv1(torch.cat([h, h1], dim=1))\n",
        "\n",
        "    # Normalize output based on the norm of perturbation kernels.\n",
        "    h = h / self.noise_scale(t)[:, None, None, None]\n",
        "    return h"
      ],
      "execution_count": 1,
      "outputs": []
    },
    {
      "cell_type": "markdown",
      "metadata": {
        "id": "PpJSwfyY6mJz"
      },
      "source": [
        "## Training with Weighted Sum of Denoising Score Matching Objectives\n",
        "\n",
        "Now let's get our hands dirty on training. First of all, we need to specify an SDE that perturbs the data distribution $p_0$ to a prior distribution $p_T$. We choose the following SDE\n",
        "\\begin{align*}\n",
        "d \\mathbf{x} = \\sqrt{\\frac{d [\\sigma^2(t)]}{dt}} d\\mathbf{w},\n",
        "\\end{align*}\n",
        "where $\\sigma(t) = \\sigma_{\\text{min}}(\\frac{\\sigma_{\\text{max}}}{\\sigma_{\\text{min}}})^t$, $t\\in[0,1]$. In this case,\n",
        "\\begin{align*}\n",
        "p_{0t}(\\mathbf{x}(t) \\mid \\mathbf{x}(0)) = \\mathcal{N}(\\mathbf{x}(t); \\mathbf{x}(0), [\\sigma^2(t) - \\sigma^2(0)]\\mathbf{I})\n",
        "\\end{align*}\n",
        "and $\\lambda(t) \\propto \\sigma^2(t) - \\sigma^2(0)$.\n",
        "\n",
        "When $\\sigma_{\\text{max}}$ is large enough, the distribution of $p_1$ is \n",
        "\\begin{align*}\n",
        "\\int p_0(\\mathbf{y})\\mathcal{N}(\\mathbf{x}; \\mathbf{y}, [\\sigma_{\\text{max}}^2 - \\sigma_{\\text{min}}^2]\\mathbf{I}) d \\mathbf{y} \\approx \\mathbf{N}(\\mathbf{x}; \\mathbf{0}, [\\sigma_{\\text{max}}^2 - \\sigma_{\\text{min}}^2]\\mathbf{I}),\n",
        "\\end{align*}\n",
        "which is easy to sample from.\n",
        "\n",
        "Intuitively, this SDE captures a continuum of Gaussian perturbations with variance function $\\sigma(t)^2 - \\sigma^2(0)$, where $\\sigma(t)$ is a strictly increasing function that grows exponentially fast. This continuum of perturbations allows us to gradually transfer samples from a data distribution $p_0$ to a simple Gaussian distribution $p_1$."
      ]
    },
    {
      "cell_type": "code",
      "metadata": {
        "id": "zOsoqPdXHuL5"
      },
      "source": [
        "#@title Loss function (double click to expand or collapse)\n",
        "def noise_scale(t, sigma_min=0.01, sigma_max=10, grad=False):\n",
        "  \"\"\"\n",
        "  Compute quantities related to the perturbation kernel p_{0t}(x(t) | x(0)).\n",
        "\n",
        "  t: a vector of time steps.\n",
        "  sigma_min: the minimum value of the sigma function.\n",
        "  sigma_max: the maximum value of the sigma function.\n",
        "  grad: if False, only return the variance of p_{0t}(x(t) | x(0)). \n",
        "    Otherwise return both the variance and the gradient of sigma^2(t).\n",
        "    This gradient will be useful for sample generation.\n",
        "  \"\"\"\n",
        "  noise = sigma_min * (sigma_max / sigma_min)**t\n",
        "  if not grad:\n",
        "    return torch.sqrt(noise**2 - sigma_min**2)\n",
        "  else:\n",
        "    dnoise_dt = sigma_min * (sigma_max / sigma_min)**t * np.log(sigma_max/sigma_min)\n",
        "    dnoise2_dt = 2 * noise * dnoise_dt\n",
        "    return torch.sqrt(noise**2 - sigma_min**2), dnoise2_dt\n",
        "\n",
        "def loss_func(model, x, noise_scale, eps=1e-3):\n",
        "  \"\"\"\n",
        "  The loss function for training score-based generative models.\n",
        "\n",
        "  model: a PyTorch model instance that represents a time-dependent score-based model.\n",
        "  x: a mini-batch of input images.\n",
        "  noise_scale: a function that computes the variance of perturbation kernels.\n",
        "  eps: a tolerance value for numerical stability.\n",
        "  \"\"\"\n",
        "  random_t = torch.rand(x.shape[0], device=x.device) * (1. - eps) + eps\n",
        "  noise_scales = noise_scale(random_t)\n",
        "  z = torch.randn_like(x)\n",
        "  perturbed_x = x + z * noise_scales[:, None, None, None]\n",
        "  score = model(perturbed_x, random_t)\n",
        "  loss = torch.sum((score * noise_scales[:, None, None, None] + z).reshape(x.shape[0], -1)**2, dim=-1).mean()\n",
        "  return loss"
      ],
      "execution_count": 2,
      "outputs": []
    },
    {
      "cell_type": "code",
      "metadata": {
        "id": "8PPsLx4dGCGa",
        "colab": {
          "base_uri": "https://localhost:8080/"
        },
        "outputId": "73325ee8-6c2a-4277-b15f-5b60d8e01ed5"
      },
      "source": [
        "#@title Training (double click to expand or collapse)\n",
        "\n",
        "import torch\n",
        "import functools\n",
        "from torch.optim import Adam\n",
        "from torch.utils.data import DataLoader\n",
        "import torchvision.transforms as transforms\n",
        "from torchvision.datasets import MNIST\n",
        "import tqdm\n",
        "\n",
        "device = 'cuda' #@param ['cuda', 'cpu'] {'type':'string'}\n",
        "\n",
        "sigma_min = 0.01 #@param {'type':'number'}\n",
        "sigma_max = 22 #@param {'type':'number'}\n",
        "noise_scale_func = functools.partial(noise_scale, sigma_min=sigma_min, sigma_max=sigma_max, grad=False)\n",
        "score_model = torch.nn.DataParallel(ScoreNet(noise_scale=noise_scale_func))\n",
        "score_model = score_model.to(device)\n",
        "\n",
        "n_epochs =  50 #@param {'type':'integer'}\n",
        "## size of a mini-batch\n",
        "batch_size =  32 #@param {'type':'integer'}\n",
        "## learning rate\n",
        "lr=1e-4 #@param {'type':'number'}\n",
        "\n",
        "dataset = MNIST('.', train=True, transform=transforms.ToTensor(), download=True)\n",
        "data_loader = DataLoader(dataset, batch_size=batch_size, shuffle=True, num_workers=4)\n",
        "\n",
        "optimizer = Adam(score_model.parameters(), lr=lr)\n",
        "for epoch in range(n_epochs):\n",
        "  avg_loss = 0.\n",
        "  num_items = 0\n",
        "  for x, y in tqdm.notebook.tqdm(data_loader):\n",
        "    optimizer.zero_grad()\n",
        "    x = x.to(device)    \n",
        "    loss = loss_func(score_model, x, noise_scale_func)\n",
        "    loss.backward()\n",
        "    optimizer.step()\n",
        "    avg_loss += loss.item() * x.shape[0]\n",
        "    num_items += x.shape[0]\n",
        "  # Print the averaged training loss so far.\n",
        "  print(f'epoch: {epoch}, average loss: {avg_loss / num_items}')\n",
        "  # Save one checkpoint after each epoch of training.\n",
        "  torch.save(score_model.state_dict(), f'ckpt.pth')"
      ],
      "execution_count": 3,
      "outputs": [
        {
          "output_type": "stream",
          "name": "stdout",
          "text": [
            "Downloading http://yann.lecun.com/exdb/mnist/train-images-idx3-ubyte.gz\n",
            "Downloading http://yann.lecun.com/exdb/mnist/train-images-idx3-ubyte.gz to ./MNIST/raw/train-images-idx3-ubyte.gz\n"
          ]
        },
        {
          "output_type": "display_data",
          "data": {
            "text/plain": [
              "  0%|          | 0/9912422 [00:00<?, ?it/s]"
            ],
            "application/vnd.jupyter.widget-view+json": {
              "version_major": 2,
              "version_minor": 0,
              "model_id": "5d34777fb44d432883a4a2562caae43c"
            }
          },
          "metadata": {}
        },
        {
          "output_type": "stream",
          "name": "stdout",
          "text": [
            "Extracting ./MNIST/raw/train-images-idx3-ubyte.gz to ./MNIST/raw\n",
            "\n",
            "Downloading http://yann.lecun.com/exdb/mnist/train-labels-idx1-ubyte.gz\n",
            "Downloading http://yann.lecun.com/exdb/mnist/train-labels-idx1-ubyte.gz to ./MNIST/raw/train-labels-idx1-ubyte.gz\n"
          ]
        },
        {
          "output_type": "display_data",
          "data": {
            "text/plain": [
              "  0%|          | 0/28881 [00:00<?, ?it/s]"
            ],
            "application/vnd.jupyter.widget-view+json": {
              "version_major": 2,
              "version_minor": 0,
              "model_id": "b04c78c1ea604d199906e8d21cd2be00"
            }
          },
          "metadata": {}
        },
        {
          "output_type": "stream",
          "name": "stdout",
          "text": [
            "Extracting ./MNIST/raw/train-labels-idx1-ubyte.gz to ./MNIST/raw\n",
            "\n",
            "Downloading http://yann.lecun.com/exdb/mnist/t10k-images-idx3-ubyte.gz\n",
            "Downloading http://yann.lecun.com/exdb/mnist/t10k-images-idx3-ubyte.gz to ./MNIST/raw/t10k-images-idx3-ubyte.gz\n"
          ]
        },
        {
          "output_type": "display_data",
          "data": {
            "text/plain": [
              "  0%|          | 0/1648877 [00:00<?, ?it/s]"
            ],
            "application/vnd.jupyter.widget-view+json": {
              "version_major": 2,
              "version_minor": 0,
              "model_id": "b0bd8980d6504d84933efb5db9d5a292"
            }
          },
          "metadata": {}
        },
        {
          "output_type": "stream",
          "name": "stdout",
          "text": [
            "Extracting ./MNIST/raw/t10k-images-idx3-ubyte.gz to ./MNIST/raw\n",
            "\n",
            "Downloading http://yann.lecun.com/exdb/mnist/t10k-labels-idx1-ubyte.gz\n",
            "Downloading http://yann.lecun.com/exdb/mnist/t10k-labels-idx1-ubyte.gz to ./MNIST/raw/t10k-labels-idx1-ubyte.gz\n"
          ]
        },
        {
          "output_type": "display_data",
          "data": {
            "text/plain": [
              "  0%|          | 0/4542 [00:00<?, ?it/s]"
            ],
            "application/vnd.jupyter.widget-view+json": {
              "version_major": 2,
              "version_minor": 0,
              "model_id": "a9d4cc2770844b539a304c59d4729d85"
            }
          },
          "metadata": {}
        },
        {
          "output_type": "stream",
          "name": "stdout",
          "text": [
            "Extracting ./MNIST/raw/t10k-labels-idx1-ubyte.gz to ./MNIST/raw\n",
            "\n"
          ]
        },
        {
          "output_type": "stream",
          "name": "stderr",
          "text": [
            "/usr/local/lib/python3.9/dist-packages/torch/utils/data/dataloader.py:554: UserWarning: This DataLoader will create 4 worker processes in total. Our suggested max number of worker in current system is 2, which is smaller than what this DataLoader is going to create. Please be aware that excessive worker creation might get DataLoader running slow or even freeze, lower the worker number to avoid potential slowness/freeze if necessary.\n",
            "  warnings.warn(_create_warning_msg(\n"
          ]
        },
        {
          "output_type": "display_data",
          "data": {
            "text/plain": [
              "  0%|          | 0/1875 [00:00<?, ?it/s]"
            ],
            "application/vnd.jupyter.widget-view+json": {
              "version_major": 2,
              "version_minor": 0,
              "model_id": "02ee7d95ad244c868cb439f8a07edafd"
            }
          },
          "metadata": {}
        },
        {
          "output_type": "stream",
          "name": "stdout",
          "text": [
            "epoch: 0, average loss: 411.29363330891925\n"
          ]
        },
        {
          "output_type": "display_data",
          "data": {
            "text/plain": [
              "  0%|          | 0/1875 [00:00<?, ?it/s]"
            ],
            "application/vnd.jupyter.widget-view+json": {
              "version_major": 2,
              "version_minor": 0,
              "model_id": "cdc9820053294b94a975eaa8cd93ce81"
            }
          },
          "metadata": {}
        },
        {
          "output_type": "stream",
          "name": "stdout",
          "text": [
            "epoch: 1, average loss: 178.90121563720703\n"
          ]
        },
        {
          "output_type": "display_data",
          "data": {
            "text/plain": [
              "  0%|          | 0/1875 [00:00<?, ?it/s]"
            ],
            "application/vnd.jupyter.widget-view+json": {
              "version_major": 2,
              "version_minor": 0,
              "model_id": "1f147e5766c44befab838d6d38b76ae6"
            }
          },
          "metadata": {}
        },
        {
          "output_type": "stream",
          "name": "stdout",
          "text": [
            "epoch: 2, average loss: 140.87310573730468\n"
          ]
        },
        {
          "output_type": "display_data",
          "data": {
            "text/plain": [
              "  0%|          | 0/1875 [00:00<?, ?it/s]"
            ],
            "application/vnd.jupyter.widget-view+json": {
              "version_major": 2,
              "version_minor": 0,
              "model_id": "f947c93e95ba4a82952467ef0d29821a"
            }
          },
          "metadata": {}
        },
        {
          "output_type": "stream",
          "name": "stdout",
          "text": [
            "epoch: 3, average loss: 122.81968420206705\n"
          ]
        },
        {
          "output_type": "display_data",
          "data": {
            "text/plain": [
              "  0%|          | 0/1875 [00:00<?, ?it/s]"
            ],
            "application/vnd.jupyter.widget-view+json": {
              "version_major": 2,
              "version_minor": 0,
              "model_id": "0ef9427ba45b40709ebd4f42c70b3803"
            }
          },
          "metadata": {}
        },
        {
          "output_type": "stream",
          "name": "stdout",
          "text": [
            "epoch: 4, average loss: 113.4300955871582\n"
          ]
        },
        {
          "output_type": "display_data",
          "data": {
            "text/plain": [
              "  0%|          | 0/1875 [00:00<?, ?it/s]"
            ],
            "application/vnd.jupyter.widget-view+json": {
              "version_major": 2,
              "version_minor": 0,
              "model_id": "f76788b5fe6945f3ac50d23a73a33a41"
            }
          },
          "metadata": {}
        },
        {
          "output_type": "stream",
          "name": "stdout",
          "text": [
            "epoch: 5, average loss: 106.16658089192708\n"
          ]
        },
        {
          "output_type": "display_data",
          "data": {
            "text/plain": [
              "  0%|          | 0/1875 [00:00<?, ?it/s]"
            ],
            "application/vnd.jupyter.widget-view+json": {
              "version_major": 2,
              "version_minor": 0,
              "model_id": "7d93d3ab2f4a4286939e2e8e2d0b69d6"
            }
          },
          "metadata": {}
        },
        {
          "output_type": "stream",
          "name": "stdout",
          "text": [
            "epoch: 6, average loss: 101.31646958414713\n"
          ]
        },
        {
          "output_type": "display_data",
          "data": {
            "text/plain": [
              "  0%|          | 0/1875 [00:00<?, ?it/s]"
            ],
            "application/vnd.jupyter.widget-view+json": {
              "version_major": 2,
              "version_minor": 0,
              "model_id": "1cd37acb54a647cdbb39a7a46b34fdad"
            }
          },
          "metadata": {}
        },
        {
          "output_type": "stream",
          "name": "stdout",
          "text": [
            "epoch: 7, average loss: 97.38323885701497\n"
          ]
        },
        {
          "output_type": "display_data",
          "data": {
            "text/plain": [
              "  0%|          | 0/1875 [00:00<?, ?it/s]"
            ],
            "application/vnd.jupyter.widget-view+json": {
              "version_major": 2,
              "version_minor": 0,
              "model_id": "66781310abea4f1cba2d155f6a264952"
            }
          },
          "metadata": {}
        },
        {
          "output_type": "stream",
          "name": "stdout",
          "text": [
            "epoch: 8, average loss: 93.88277430826822\n"
          ]
        },
        {
          "output_type": "display_data",
          "data": {
            "text/plain": [
              "  0%|          | 0/1875 [00:00<?, ?it/s]"
            ],
            "application/vnd.jupyter.widget-view+json": {
              "version_major": 2,
              "version_minor": 0,
              "model_id": "c9fa84a0b06843ce9c22e6b307764f13"
            }
          },
          "metadata": {}
        },
        {
          "output_type": "stream",
          "name": "stdout",
          "text": [
            "epoch: 9, average loss: 90.386947849528\n"
          ]
        },
        {
          "output_type": "display_data",
          "data": {
            "text/plain": [
              "  0%|          | 0/1875 [00:00<?, ?it/s]"
            ],
            "application/vnd.jupyter.widget-view+json": {
              "version_major": 2,
              "version_minor": 0,
              "model_id": "e5324d8ca4e84ddcaf4a444a4c389fec"
            }
          },
          "metadata": {}
        },
        {
          "output_type": "stream",
          "name": "stdout",
          "text": [
            "epoch: 10, average loss: 89.67134948527018\n"
          ]
        },
        {
          "output_type": "display_data",
          "data": {
            "text/plain": [
              "  0%|          | 0/1875 [00:00<?, ?it/s]"
            ],
            "application/vnd.jupyter.widget-view+json": {
              "version_major": 2,
              "version_minor": 0,
              "model_id": "56ffcf8a974943b189691c4f074ffdb7"
            }
          },
          "metadata": {}
        },
        {
          "output_type": "stream",
          "name": "stdout",
          "text": [
            "epoch: 11, average loss: 87.41275763956706\n"
          ]
        },
        {
          "output_type": "display_data",
          "data": {
            "text/plain": [
              "  0%|          | 0/1875 [00:00<?, ?it/s]"
            ],
            "application/vnd.jupyter.widget-view+json": {
              "version_major": 2,
              "version_minor": 0,
              "model_id": "ce82da6cbe5e4194a6e51cfcb8fd85e0"
            }
          },
          "metadata": {}
        },
        {
          "output_type": "stream",
          "name": "stdout",
          "text": [
            "epoch: 12, average loss: 84.8294557779948\n"
          ]
        },
        {
          "output_type": "display_data",
          "data": {
            "text/plain": [
              "  0%|          | 0/1875 [00:00<?, ?it/s]"
            ],
            "application/vnd.jupyter.widget-view+json": {
              "version_major": 2,
              "version_minor": 0,
              "model_id": "c202932a125f405ea94959758f52e486"
            }
          },
          "metadata": {}
        },
        {
          "output_type": "stream",
          "name": "stdout",
          "text": [
            "epoch: 13, average loss: 82.93237165730794\n"
          ]
        },
        {
          "output_type": "display_data",
          "data": {
            "text/plain": [
              "  0%|          | 0/1875 [00:00<?, ?it/s]"
            ],
            "application/vnd.jupyter.widget-view+json": {
              "version_major": 2,
              "version_minor": 0,
              "model_id": "84a7b6cf09da414aa0acf7f8c2e1d826"
            }
          },
          "metadata": {}
        },
        {
          "output_type": "stream",
          "name": "stdout",
          "text": [
            "epoch: 14, average loss: 81.96781688028972\n"
          ]
        },
        {
          "output_type": "display_data",
          "data": {
            "text/plain": [
              "  0%|          | 0/1875 [00:00<?, ?it/s]"
            ],
            "application/vnd.jupyter.widget-view+json": {
              "version_major": 2,
              "version_minor": 0,
              "model_id": "8e9702ed08ba4a52998df7d111ff24d8"
            }
          },
          "metadata": {}
        },
        {
          "output_type": "stream",
          "name": "stdout",
          "text": [
            "epoch: 15, average loss: 80.81431931355795\n"
          ]
        },
        {
          "output_type": "display_data",
          "data": {
            "text/plain": [
              "  0%|          | 0/1875 [00:00<?, ?it/s]"
            ],
            "application/vnd.jupyter.widget-view+json": {
              "version_major": 2,
              "version_minor": 0,
              "model_id": "47c9030836c5404cb0ab75e2342c99d3"
            }
          },
          "metadata": {}
        },
        {
          "output_type": "stream",
          "name": "stdout",
          "text": [
            "epoch: 16, average loss: 78.66842725830078\n"
          ]
        },
        {
          "output_type": "display_data",
          "data": {
            "text/plain": [
              "  0%|          | 0/1875 [00:00<?, ?it/s]"
            ],
            "application/vnd.jupyter.widget-view+json": {
              "version_major": 2,
              "version_minor": 0,
              "model_id": "c5c28baa97624a448ae220c710e75d07"
            }
          },
          "metadata": {}
        },
        {
          "output_type": "stream",
          "name": "stdout",
          "text": [
            "epoch: 17, average loss: 78.08314135538737\n"
          ]
        },
        {
          "output_type": "display_data",
          "data": {
            "text/plain": [
              "  0%|          | 0/1875 [00:00<?, ?it/s]"
            ],
            "application/vnd.jupyter.widget-view+json": {
              "version_major": 2,
              "version_minor": 0,
              "model_id": "21d8f9f8b16d4baa90a9078be074f3e3"
            }
          },
          "metadata": {}
        },
        {
          "output_type": "stream",
          "name": "stdout",
          "text": [
            "epoch: 18, average loss: 75.86490228983561\n"
          ]
        },
        {
          "output_type": "display_data",
          "data": {
            "text/plain": [
              "  0%|          | 0/1875 [00:00<?, ?it/s]"
            ],
            "application/vnd.jupyter.widget-view+json": {
              "version_major": 2,
              "version_minor": 0,
              "model_id": "c46bade7789f40bea1ba9627580a9185"
            }
          },
          "metadata": {}
        },
        {
          "output_type": "stream",
          "name": "stdout",
          "text": [
            "epoch: 19, average loss: 75.54935077006022\n"
          ]
        },
        {
          "output_type": "display_data",
          "data": {
            "text/plain": [
              "  0%|          | 0/1875 [00:00<?, ?it/s]"
            ],
            "application/vnd.jupyter.widget-view+json": {
              "version_major": 2,
              "version_minor": 0,
              "model_id": "7150344b76da49e09b1804b743dec185"
            }
          },
          "metadata": {}
        },
        {
          "output_type": "stream",
          "name": "stdout",
          "text": [
            "epoch: 20, average loss: 74.59737856343587\n"
          ]
        },
        {
          "output_type": "display_data",
          "data": {
            "text/plain": [
              "  0%|          | 0/1875 [00:00<?, ?it/s]"
            ],
            "application/vnd.jupyter.widget-view+json": {
              "version_major": 2,
              "version_minor": 0,
              "model_id": "442d670fb00c4bfbaf905fb173fd12fd"
            }
          },
          "metadata": {}
        },
        {
          "output_type": "stream",
          "name": "stdout",
          "text": [
            "epoch: 21, average loss: 73.77391780395507\n"
          ]
        },
        {
          "output_type": "display_data",
          "data": {
            "text/plain": [
              "  0%|          | 0/1875 [00:00<?, ?it/s]"
            ],
            "application/vnd.jupyter.widget-view+json": {
              "version_major": 2,
              "version_minor": 0,
              "model_id": "3dfacc00da4248a4b2466973b33bd614"
            }
          },
          "metadata": {}
        },
        {
          "output_type": "stream",
          "name": "stdout",
          "text": [
            "epoch: 22, average loss: 72.58407032674154\n"
          ]
        },
        {
          "output_type": "display_data",
          "data": {
            "text/plain": [
              "  0%|          | 0/1875 [00:00<?, ?it/s]"
            ],
            "application/vnd.jupyter.widget-view+json": {
              "version_major": 2,
              "version_minor": 0,
              "model_id": "fe0989ab2cbb49b9a313f5ed1e38e70b"
            }
          },
          "metadata": {}
        },
        {
          "output_type": "stream",
          "name": "stdout",
          "text": [
            "epoch: 23, average loss: 71.7031839457194\n"
          ]
        },
        {
          "output_type": "display_data",
          "data": {
            "text/plain": [
              "  0%|          | 0/1875 [00:00<?, ?it/s]"
            ],
            "application/vnd.jupyter.widget-view+json": {
              "version_major": 2,
              "version_minor": 0,
              "model_id": "aa68a8183eba41afb74dae781e540156"
            }
          },
          "metadata": {}
        },
        {
          "output_type": "stream",
          "name": "stdout",
          "text": [
            "epoch: 24, average loss: 70.92043306172688\n"
          ]
        },
        {
          "output_type": "display_data",
          "data": {
            "text/plain": [
              "  0%|          | 0/1875 [00:00<?, ?it/s]"
            ],
            "application/vnd.jupyter.widget-view+json": {
              "version_major": 2,
              "version_minor": 0,
              "model_id": "bc4e96c6e486489482cff7039f5bf983"
            }
          },
          "metadata": {}
        },
        {
          "output_type": "stream",
          "name": "stdout",
          "text": [
            "epoch: 25, average loss: 70.84497297770183\n"
          ]
        },
        {
          "output_type": "display_data",
          "data": {
            "text/plain": [
              "  0%|          | 0/1875 [00:00<?, ?it/s]"
            ],
            "application/vnd.jupyter.widget-view+json": {
              "version_major": 2,
              "version_minor": 0,
              "model_id": "9f61a63df86a40599ad20ed2dc221f34"
            }
          },
          "metadata": {}
        },
        {
          "output_type": "stream",
          "name": "stdout",
          "text": [
            "epoch: 26, average loss: 69.49419875895182\n"
          ]
        },
        {
          "output_type": "display_data",
          "data": {
            "text/plain": [
              "  0%|          | 0/1875 [00:00<?, ?it/s]"
            ],
            "application/vnd.jupyter.widget-view+json": {
              "version_major": 2,
              "version_minor": 0,
              "model_id": "1af2e87ea60a41388720ab5d24404aef"
            }
          },
          "metadata": {}
        },
        {
          "output_type": "stream",
          "name": "stdout",
          "text": [
            "epoch: 27, average loss: 69.32774912719727\n"
          ]
        },
        {
          "output_type": "display_data",
          "data": {
            "text/plain": [
              "  0%|          | 0/1875 [00:00<?, ?it/s]"
            ],
            "application/vnd.jupyter.widget-view+json": {
              "version_major": 2,
              "version_minor": 0,
              "model_id": "feedadd22aac4471affdf08078584f50"
            }
          },
          "metadata": {}
        },
        {
          "output_type": "stream",
          "name": "stdout",
          "text": [
            "epoch: 28, average loss: 68.8717235727946\n"
          ]
        },
        {
          "output_type": "display_data",
          "data": {
            "text/plain": [
              "  0%|          | 0/1875 [00:00<?, ?it/s]"
            ],
            "application/vnd.jupyter.widget-view+json": {
              "version_major": 2,
              "version_minor": 0,
              "model_id": "d21bdb69d82b45c0a6d40c4d8284a21e"
            }
          },
          "metadata": {}
        },
        {
          "output_type": "stream",
          "name": "stdout",
          "text": [
            "epoch: 29, average loss: 67.63568832804361\n"
          ]
        },
        {
          "output_type": "display_data",
          "data": {
            "text/plain": [
              "  0%|          | 0/1875 [00:00<?, ?it/s]"
            ],
            "application/vnd.jupyter.widget-view+json": {
              "version_major": 2,
              "version_minor": 0,
              "model_id": "147d562d7f304f27a69cca945438dfdd"
            }
          },
          "metadata": {}
        },
        {
          "output_type": "stream",
          "name": "stdout",
          "text": [
            "epoch: 30, average loss: 67.54255159301758\n"
          ]
        },
        {
          "output_type": "display_data",
          "data": {
            "text/plain": [
              "  0%|          | 0/1875 [00:00<?, ?it/s]"
            ],
            "application/vnd.jupyter.widget-view+json": {
              "version_major": 2,
              "version_minor": 0,
              "model_id": "c2353b33814d42a4913face30af2aca2"
            }
          },
          "metadata": {}
        },
        {
          "output_type": "stream",
          "name": "stdout",
          "text": [
            "epoch: 31, average loss: 66.6745711476644\n"
          ]
        },
        {
          "output_type": "display_data",
          "data": {
            "text/plain": [
              "  0%|          | 0/1875 [00:00<?, ?it/s]"
            ],
            "application/vnd.jupyter.widget-view+json": {
              "version_major": 2,
              "version_minor": 0,
              "model_id": "41221644f20b4c3bb337e43985f30dfe"
            }
          },
          "metadata": {}
        },
        {
          "output_type": "stream",
          "name": "stdout",
          "text": [
            "epoch: 32, average loss: 66.67725071004232\n"
          ]
        },
        {
          "output_type": "display_data",
          "data": {
            "text/plain": [
              "  0%|          | 0/1875 [00:00<?, ?it/s]"
            ],
            "application/vnd.jupyter.widget-view+json": {
              "version_major": 2,
              "version_minor": 0,
              "model_id": "2c8dbe7d8d9a4bc78f84afbdd5235ca6"
            }
          },
          "metadata": {}
        },
        {
          "output_type": "stream",
          "name": "stdout",
          "text": [
            "epoch: 33, average loss: 66.20349072774252\n"
          ]
        },
        {
          "output_type": "display_data",
          "data": {
            "text/plain": [
              "  0%|          | 0/1875 [00:00<?, ?it/s]"
            ],
            "application/vnd.jupyter.widget-view+json": {
              "version_major": 2,
              "version_minor": 0,
              "model_id": "edc823a80df043d2b8cc163b101aebd5"
            }
          },
          "metadata": {}
        },
        {
          "output_type": "stream",
          "name": "stdout",
          "text": [
            "epoch: 34, average loss: 65.42269108276368\n"
          ]
        },
        {
          "output_type": "display_data",
          "data": {
            "text/plain": [
              "  0%|          | 0/1875 [00:00<?, ?it/s]"
            ],
            "application/vnd.jupyter.widget-view+json": {
              "version_major": 2,
              "version_minor": 0,
              "model_id": "9f814f4568334c63bec8044bfe5d9794"
            }
          },
          "metadata": {}
        },
        {
          "output_type": "stream",
          "name": "stdout",
          "text": [
            "epoch: 35, average loss: 64.96422377421061\n"
          ]
        },
        {
          "output_type": "display_data",
          "data": {
            "text/plain": [
              "  0%|          | 0/1875 [00:00<?, ?it/s]"
            ],
            "application/vnd.jupyter.widget-view+json": {
              "version_major": 2,
              "version_minor": 0,
              "model_id": "facf9512193a46ec984f08475b289566"
            }
          },
          "metadata": {}
        },
        {
          "output_type": "stream",
          "name": "stdout",
          "text": [
            "epoch: 36, average loss: 64.58542606302898\n"
          ]
        },
        {
          "output_type": "display_data",
          "data": {
            "text/plain": [
              "  0%|          | 0/1875 [00:00<?, ?it/s]"
            ],
            "application/vnd.jupyter.widget-view+json": {
              "version_major": 2,
              "version_minor": 0,
              "model_id": "404dcc22311a48769f97d695278adda2"
            }
          },
          "metadata": {}
        },
        {
          "output_type": "stream",
          "name": "stdout",
          "text": [
            "epoch: 37, average loss: 65.10658284098308\n"
          ]
        },
        {
          "output_type": "display_data",
          "data": {
            "text/plain": [
              "  0%|          | 0/1875 [00:00<?, ?it/s]"
            ],
            "application/vnd.jupyter.widget-view+json": {
              "version_major": 2,
              "version_minor": 0,
              "model_id": "aec4f46c45c9430084267ebb4cc8718f"
            }
          },
          "metadata": {}
        },
        {
          "output_type": "stream",
          "name": "stdout",
          "text": [
            "epoch: 38, average loss: 64.69055268249512\n"
          ]
        },
        {
          "output_type": "display_data",
          "data": {
            "text/plain": [
              "  0%|          | 0/1875 [00:00<?, ?it/s]"
            ],
            "application/vnd.jupyter.widget-view+json": {
              "version_major": 2,
              "version_minor": 0,
              "model_id": "6e3f112789db4083a673c423019d7e81"
            }
          },
          "metadata": {}
        },
        {
          "output_type": "stream",
          "name": "stdout",
          "text": [
            "epoch: 39, average loss: 63.75658045756022\n"
          ]
        },
        {
          "output_type": "display_data",
          "data": {
            "text/plain": [
              "  0%|          | 0/1875 [00:00<?, ?it/s]"
            ],
            "application/vnd.jupyter.widget-view+json": {
              "version_major": 2,
              "version_minor": 0,
              "model_id": "9f0c1b98b2594d93ae7e48c15dcadf3c"
            }
          },
          "metadata": {}
        },
        {
          "output_type": "stream",
          "name": "stdout",
          "text": [
            "epoch: 40, average loss: 63.700210181681314\n"
          ]
        },
        {
          "output_type": "display_data",
          "data": {
            "text/plain": [
              "  0%|          | 0/1875 [00:00<?, ?it/s]"
            ],
            "application/vnd.jupyter.widget-view+json": {
              "version_major": 2,
              "version_minor": 0,
              "model_id": "3eb0d0e40f2b412285765cce5860f99b"
            }
          },
          "metadata": {}
        },
        {
          "output_type": "stream",
          "name": "stdout",
          "text": [
            "epoch: 41, average loss: 63.14979954630534\n"
          ]
        },
        {
          "output_type": "display_data",
          "data": {
            "text/plain": [
              "  0%|          | 0/1875 [00:00<?, ?it/s]"
            ],
            "application/vnd.jupyter.widget-view+json": {
              "version_major": 2,
              "version_minor": 0,
              "model_id": "03e7fda48d61487588474752dab566f7"
            }
          },
          "metadata": {}
        },
        {
          "output_type": "stream",
          "name": "stdout",
          "text": [
            "epoch: 42, average loss: 62.72712260131836\n"
          ]
        },
        {
          "output_type": "display_data",
          "data": {
            "text/plain": [
              "  0%|          | 0/1875 [00:00<?, ?it/s]"
            ],
            "application/vnd.jupyter.widget-view+json": {
              "version_major": 2,
              "version_minor": 0,
              "model_id": "8108c026a29b42128171e8206d8da643"
            }
          },
          "metadata": {}
        },
        {
          "output_type": "stream",
          "name": "stdout",
          "text": [
            "epoch: 43, average loss: 62.910248549397785\n"
          ]
        },
        {
          "output_type": "display_data",
          "data": {
            "text/plain": [
              "  0%|          | 0/1875 [00:00<?, ?it/s]"
            ],
            "application/vnd.jupyter.widget-view+json": {
              "version_major": 2,
              "version_minor": 0,
              "model_id": "f6e0901d00804513ad984ad20403cb32"
            }
          },
          "metadata": {}
        },
        {
          "output_type": "stream",
          "name": "stdout",
          "text": [
            "epoch: 44, average loss: 62.06334360148112\n"
          ]
        },
        {
          "output_type": "display_data",
          "data": {
            "text/plain": [
              "  0%|          | 0/1875 [00:00<?, ?it/s]"
            ],
            "application/vnd.jupyter.widget-view+json": {
              "version_major": 2,
              "version_minor": 0,
              "model_id": "e74567800fd84aa2991138afac93cad9"
            }
          },
          "metadata": {}
        },
        {
          "output_type": "stream",
          "name": "stdout",
          "text": [
            "epoch: 45, average loss: 61.93983096211751\n"
          ]
        },
        {
          "output_type": "display_data",
          "data": {
            "text/plain": [
              "  0%|          | 0/1875 [00:00<?, ?it/s]"
            ],
            "application/vnd.jupyter.widget-view+json": {
              "version_major": 2,
              "version_minor": 0,
              "model_id": "62ac79ea61e544b08278f08e57412fb4"
            }
          },
          "metadata": {}
        },
        {
          "output_type": "stream",
          "name": "stdout",
          "text": [
            "epoch: 46, average loss: 61.9130113087972\n"
          ]
        },
        {
          "output_type": "display_data",
          "data": {
            "text/plain": [
              "  0%|          | 0/1875 [00:00<?, ?it/s]"
            ],
            "application/vnd.jupyter.widget-view+json": {
              "version_major": 2,
              "version_minor": 0,
              "model_id": "49d2467517594cf59f509209684b1108"
            }
          },
          "metadata": {}
        },
        {
          "output_type": "stream",
          "name": "stdout",
          "text": [
            "epoch: 47, average loss: 61.368665294392905\n"
          ]
        },
        {
          "output_type": "display_data",
          "data": {
            "text/plain": [
              "  0%|          | 0/1875 [00:00<?, ?it/s]"
            ],
            "application/vnd.jupyter.widget-view+json": {
              "version_major": 2,
              "version_minor": 0,
              "model_id": "9894bbcc012f4c72aa9d9e46206263e5"
            }
          },
          "metadata": {}
        },
        {
          "output_type": "stream",
          "name": "stdout",
          "text": [
            "epoch: 48, average loss: 61.418732525634766\n"
          ]
        },
        {
          "output_type": "display_data",
          "data": {
            "text/plain": [
              "  0%|          | 0/1875 [00:00<?, ?it/s]"
            ],
            "application/vnd.jupyter.widget-view+json": {
              "version_major": 2,
              "version_minor": 0,
              "model_id": "1fba4aea15bb4f1dbb4c22316112b6d7"
            }
          },
          "metadata": {}
        },
        {
          "output_type": "stream",
          "name": "stdout",
          "text": [
            "epoch: 49, average loss: 60.76180529174805\n"
          ]
        }
      ]
    },
    {
      "cell_type": "markdown",
      "metadata": {
        "id": "tldaUHUtHuej"
      },
      "source": [
        "## Sampling with Numerical SDE Solvers\n",
        "Recall that for any SDE of the form\n",
        "\\begin{align*}\n",
        "d \\mathbf{x} = \\mathbf{f}(\\mathbf{x}, t) dt + g(t) d\\mathbf{w},\n",
        "\\end{align*}\n",
        "the reverse-time SDE is given by\n",
        "\\begin{align*}\n",
        "d \\mathbf{x} = [\\mathbf{f}(\\mathbf{x}, t) + g(t)^2 \\nabla_\\mathbf{x} \\log p_t(\\mathbf{x})] dt + g(t) d \\bar{\\mathbf{w}}.\n",
        "\\end{align*}\n",
        "Since we have chosen the forward SDE to be\n",
        "\\begin{align*}\n",
        "d \\mathbf{x} = \\sqrt{\\frac{d [\\sigma^2(t)]}{dt}} d\\mathbf{w},\n",
        "\\end{align*}\n",
        "where $\\sigma(t) = \\sigma_{\\text{min}}(\\frac{\\sigma_{\\text{max}}}{\\sigma_{\\text{min}}})^t$, $t\\in[0,1]$. The reverse-time SDE is given by\n",
        "\\begin{align*}\n",
        "d\\mathbf{x} = -\\frac{d[\\sigma^2(t)]}{dt} \\nabla_\\mathbf{x} \\log p_t(\\mathbf{x}) dt + \\sqrt{\\frac{d[\\sigma^2(t)]}{d t}} d \\bar{\\mathbf{w}}.\n",
        "\\end{align*}\n",
        "To sample from our time-dependent score-based model $s_\\theta(\\mathbf{x}, t)$, we can first draw a sample from $p_1 \\approx \\mathbf{N}(\\mathbf{x}; \\mathbf{0}, [\\sigma_{\\text{max}}^2 - \\sigma_{\\text{min}}^2]\\mathbf{I})$, and then solve the reverse-time SDE with numerical methods.\n",
        "\n",
        "Specifically, using our time-dependent score-based model, the reverse-time SDE can be approximated by\n",
        "\\begin{align*}\n",
        "d\\mathbf{x} = -\\frac{d[\\sigma^2(t)]}{dt} s_\\theta(\\mathbf{x}, t) dt + \\sqrt{\\frac{d[\\sigma^2(t)]}{d t}} d \\bar{\\mathbf{w}}\n",
        "\\end{align*}\n",
        "\n",
        "Next, one can use numerical methods to solve for the reverse-time SDE, such as the [Euler-Maruyama](https://en.wikipedia.org/wiki/Euler%E2%80%93Maruyama_method) approach. It is based on a simple discretization to the SDE, replacing $dt$ with $\\Delta t$ and $d \\mathbf{w}$ with $\\mathbf{z} \\sim \\mathcal{N}(\\mathbf{0}, g^2(t) \\Delta t \\mathbf{I})$. When applied to our reverse-time SDE, we can obtain the following iteration rule\n",
        "\\begin{align}\n",
        "\\mathbf{x}_{t-\\Delta t} = \\mathbf{x}_t + \\frac{d[\\sigma^2(t)]}{dt}s_\\theta(\\mathbf{x}_t, t)\\Delta t + \\sqrt{\\frac{d[\\sigma^2(t)]}{dt}\\Delta t} \\mathbf{z}_t,\n",
        "\\end{align}\n",
        "where $\\mathbf{z}_t \\sim \\mathcal{N}(\\mathbf{0}, \\mathbf{I})$."
      ]
    },
    {
      "cell_type": "markdown",
      "metadata": {
        "id": "DC6QVkUQvFyB"
      },
      "source": [
        "## Sampling with Predictor-Corrector Methods\n",
        "\n",
        "Aside from generic numerical SDE solvers, we can leverage special properties of our reverse-time SDE for better solutions. Since we have an estimate of the score of $p_t(\\mathbf{x}(t))$ via the score-based model, i.e., $s_\\theta(\\mathbf{x}, t) \\approx \\nabla_{\\mathbf{x}(t)} \\log p_t(\\mathbf{x}(t))$, we can leverage score-based MCMC approaches, such as Langevin MCMC, to correct the solution obtained by numerical SDE solvers.\n",
        "\n",
        "Score-based MCMC approaches can produce samples from a distribution $p(\\mathbf{x})$ once its score $\\nabla_\\mathbf{x} \\log p(\\mathbf{x})$ is known. For example, Langevin MCMC operates by running the following iteration rule for $i=1,2,\\cdots, N$:\n",
        "\\begin{align*}\n",
        "\\mathbf{x}_{i+1} = \\mathbf{x}_{i} + \\epsilon \\nabla_\\mathbf{x} \\log p(\\mathbf{x}_i) + \\sqrt{2\\epsilon} \\mathbf{z}_i,\n",
        "\\end{align*}\n",
        "where $\\mathbf{z}_i \\sim \\mathcal{N}(\\mathbf{0}, \\mathbf{I})$, $\\epsilon > 0$ is the step size, and $\\mathbf{x}_1$ is initialized from any prior distribution $\\pi(\\mathbf{x}_1)$. When $N\\to\\infty$ and $\\epsilon \\to 0$, the final value $\\mathbf{x}_{N+1}$ becomes a sample from $p(\\mathbf{x})$ under some regularity conditions. Therefore, given $s_\\theta(\\mathbf{x}, t) \\approx \\nabla_\\mathbf{x} \\log p_t(\\mathbf{x})$, we can get an approximate sample from $p_t(\\mathbf{x})$ by running several steps of Langevin MCMC, replacing $\\nabla_\\mathbf{x} \\log p_t(\\mathbf{x})$ with $s_\\theta(\\mathbf{x}, t)$ in the iteration rule.\n",
        "\n",
        "Predictor-Corrector samplers combine both numerical solvers for the reverse-time SDE and the Langevin MCMC approach. In particular, we first apply one step of numerical SDE solver to obtain $\\mathbf{x}_{t-\\Delta t}$ from $\\mathbf{x}_t$, which is called the \"predictor\" step. Next, we apply several steps of Langevin MCMC to refine $\\mathbf{x}_t$, such that $\\mathbf{x}_t$ becomes a more accurate sample from $p_{t-\\Delta t}(\\mathbf{x})$. This is the \"corrector\" step as the MCMC helps reduce the error of the numerical SDE solver. "
      ]
    },
    {
      "cell_type": "markdown",
      "metadata": {
        "id": "0PdMMadpUbrj"
      },
      "source": [
        "## Sampling with Numerical ODE Solvers\n",
        "\n",
        "For any SDE of the form\n",
        "\\begin{align*}\n",
        "d \\mathbf{x} = \\mathbf{f}(\\mathbf{x}, t) d t + g(t) d \\mathbf{w},\n",
        "\\end{align*}\n",
        "there exists an associated ordinary differential equation (ODE)\n",
        "\\begin{align*}\n",
        "d \\mathbf{x} = \\bigg[\\mathbf{f}(\\mathbf{x}, t) - \\frac{1}{2}g(t)^2 \\nabla_\\mathbf{x} \\log p_t(\\mathbf{x})\\bigg] dt,\n",
        "\\end{align*}\n",
        "such that their trajectories have the same mariginal probability density $p_t(\\mathbf{x})$. We call this ODE the *probability flow ODE*.\n",
        "\n",
        "Therefore, we can start from a sample from $p_T$, integrate the ODE in the reverse time direction, and then get a sample from $p_0 = p_\\text{data}$. In particular, for our chosen forward SDE, we can integrate the following SDE from $t=T$ to $0$ for sample generation\n",
        "\\begin{align*}\n",
        "d\\mathbf{x} =  -\\frac{1}{2}\\frac{d[\\sigma^2(t)]}{d t} s_\\theta(\\mathbf{x}, t) dt.\n",
        "\\end{align*}\n",
        "This can be done using many heavily-optimized black-box ODE solvers provided by packages such as `scipy`."
      ]
    },
    {
      "cell_type": "code",
      "metadata": {
        "id": "6FxBTOSSH2QR",
        "cellView": "form"
      },
      "source": [
        "#@title SDE sampling (double click to expand or collapse)\n",
        "\n",
        "## The number of sampling steps.\n",
        "num_steps = 500 #@param {'type':'integer'}\n",
        "def sde_sampler(score_model, noise_scale, batch_size=64, num_steps=num_steps, device='cuda'):\n",
        "  \"\"\"\n",
        "  Generate samples from score-based models with numerical SDE solvers.\n",
        "\n",
        "  score_model: a PyTorch model that represents the time-dependent score-based model.\n",
        "  noise_scale: a function that gives a tuple: (the variance of p_{0t}(x(t) | x(0)) and\n",
        "    , the gradient of sigma^2(t) ).\n",
        "  batch_size: the number of samplers to generate by calling this function once.\n",
        "  num_steps: the number of sampling steps. Also equivalent to the number of discretized time steps.\n",
        "  device: 'cuda' for running on GPUs, and 'cpu' for running on CPUs.\n",
        "  \"\"\"\n",
        "  t = torch.ones(batch_size, device=device)\n",
        "  init_x = torch.randn(batch_size, 1, 28, 28, device=device) * noise_scale(t)[0][:, None, None, None]\n",
        "  time_steps = np.linspace(1., 1e-3, num_steps)\n",
        "  step_size = time_steps[0] - time_steps[1]\n",
        "  x = init_x\n",
        "  with torch.no_grad():\n",
        "    for time_step in tqdm.notebook.tqdm(time_steps):      \n",
        "      batch_time_step = torch.ones(batch_size, device=device) * time_step\n",
        "      next_x = x + noise_scale(batch_time_step)[1][:, None, None, None] * score_model(x, batch_time_step) * step_size\n",
        "      next_x = next_x + torch.sqrt(noise_scale(batch_time_step)[1] * step_size)[:, None, None, None] * torch.randn_like(x)\n",
        "      x = next_x       \n",
        "    return x"
      ],
      "execution_count": 4,
      "outputs": []
    },
    {
      "cell_type": "code",
      "metadata": {
        "id": "qW1HaPZb9gDM",
        "cellView": "form"
      },
      "source": [
        "#@title PC sampling (double click to expand or collapse)\n",
        "\n",
        "signal_to_noise_ratio = 0.15 #@param {'type':'number'}\n",
        "\n",
        "## The number of sampling steps.\n",
        "num_steps = 500 #@param {'type':'integer'}\n",
        "def pc_sampler(score_model, noise_scale, batch_size=64, num_steps=num_steps, snr=signal_to_noise_ratio, device='cuda'):\n",
        "  \"\"\"\n",
        "  Generate samples from score-based models with Predictor-Corrector method.\n",
        "\n",
        "  score_model: a PyTorch model that represents the time-dependent score-based model.\n",
        "  noise_scale: a function that gives a tuple: (the variance of p_{0t}(x(t) | x(0)) and\n",
        "    , the gradient of sigma^2(t) ).\n",
        "  batch_size: the number of samplers to generate by calling this function once.\n",
        "  num_steps: the number of sampling steps. Also equivalent to the number of discretized time steps.\n",
        "  device: 'cuda' for running on GPUs, and 'cpu' for running on CPUs.\n",
        "  \"\"\"\n",
        "  t = torch.ones(batch_size, device=device)\n",
        "  init_x = torch.randn(batch_size, 1, 28, 28, device=device) * noise_scale(t)[0][:, None, None, None]\n",
        "  time_steps = np.linspace(1., 1e-3, num_steps)\n",
        "  step_size = time_steps[0] - time_steps[1]\n",
        "  x = init_x\n",
        "  with torch.no_grad():\n",
        "    for time_step in tqdm.notebook.tqdm(time_steps):      \n",
        "      # Corrector step\n",
        "      batch_time_step = torch.ones(batch_size, device=device) * time_step\n",
        "      next_x = x + noise_scale(batch_time_step)[1][:, None, None, None] * score_model(x, batch_time_step) * step_size\n",
        "      next_x = next_x + torch.sqrt(noise_scale(batch_time_step)[1] * step_size)[:, None, None, None] * torch.randn_like(x)\n",
        "      x = next_x \n",
        "\n",
        "      # Predictor step\n",
        "      grad = score_model(x, batch_time_step)\n",
        "      grad_norm = torch.norm(grad.reshape(grad.shape[0], -1), dim=-1).mean()\n",
        "      noise_norm = np.sqrt(np.prod(x.shape[1:]))\n",
        "      langevin_step_size = 2 * (snr * noise_norm / grad_norm)**2\n",
        "      x = x + langevin_step_size * grad + torch.sqrt(2 * langevin_step_size) * torch.randn_like(x)      \n",
        "    return x"
      ],
      "execution_count": 5,
      "outputs": []
    },
    {
      "cell_type": "code",
      "metadata": {
        "id": "nxrCTFM8CfDN",
        "cellView": "form"
      },
      "source": [
        "#@title ODE sampling (double click to expand or collapse)\n",
        "\n",
        "from scipy import integrate\n",
        "\n",
        "## The error tolerance for the black-box ODE solver\n",
        "error_tolerance = 1e-5 #@param {'type': 'number'}\n",
        "def ode_sampler(score_model, noise_scale, batch_size=64, atol=error_tolerance, rtol=error_tolerance, device='cuda', z=None):\n",
        "  \"\"\"\n",
        "  Generate samples from score-based models with black-box ODE solvers.\n",
        "\n",
        "  score_model: a PyTorch model that represents the time-dependent score-based model.\n",
        "  noise_scale: a function that gives a tuple: (the variance of p_{0t}(x(t) | x(0)) and\n",
        "    , the gradient of sigma^2(t) ).\n",
        "  batch_size: the number of samplers to generate by calling this function once.\n",
        "  atol: tolerance of absolute errors.\n",
        "  rtol: tolerance of relative errors.\n",
        "  device: 'cuda' for running on GPUs, and 'cpu' for running on CPUs.\n",
        "  z: the latent code that governs the final sample. If None, we start from p_1;\n",
        "    otherwise, we start from the given z.\n",
        "  \"\"\"\n",
        "  t = torch.ones(batch_size, device=device)\n",
        "  # Create the latent code\n",
        "  if z is None:\n",
        "    init_x = torch.randn(batch_size, 1, 28, 28, device=device) * noise_scale(t)[0][:, None, None, None]\n",
        "  else:\n",
        "    init_x = z\n",
        "    \n",
        "  shape = init_x.shape\n",
        "\n",
        "  def score_eval_wrapper(sample, time_steps):\n",
        "    \"\"\"A wrapper of the score-based model for use by the ODE solver.\"\"\"\n",
        "    sample = torch.tensor(sample, device=device, dtype=torch.float32).reshape(shape)\n",
        "    time_steps = torch.tensor(time_steps, device=device, dtype=torch.float32).reshape((sample.shape[0], ))    \n",
        "    with torch.no_grad():    \n",
        "      score = score_model(sample, time_steps)\n",
        "    return score.cpu().numpy().reshape((-1,)).astype(np.float64)\n",
        "  \n",
        "  def ode_func(t, x):        \n",
        "    \"\"\"The ODE function for use by the ODE solver.\"\"\"\n",
        "    time_steps = np.ones((shape[0],)) * t\n",
        "    \n",
        "    return  -0.5 * noise_scale(torch.tensor(t))[1].cpu().numpy() * score_eval_wrapper(x, time_steps)    \n",
        "  \n",
        "  # Run the black-box ODE solver.\n",
        "  res = integrate.solve_ivp(ode_func, (1., 1e-2), init_x.reshape(-1).cpu().numpy(), rtol=rtol, atol=atol, method='RK45')  \n",
        "  print(f\"Number of function evaluations: {res.nfev}\")\n",
        "  x = torch.tensor(res.y[:, -1], device=device).reshape(shape)\n",
        "\n",
        "  return x\n"
      ],
      "execution_count": 6,
      "outputs": []
    },
    {
      "cell_type": "code",
      "metadata": {
        "id": "kKoAPnr7Pf2B",
        "cellView": "form",
        "colab": {
          "base_uri": "https://localhost:8080/"
        },
        "outputId": "dc6385b9-6914-45cd-d0e6-a56ddedeeae4"
      },
      "source": [
        "#@title Sampling (double click to expand or collapse)\n",
        "\n",
        "from torchvision.utils import make_grid\n",
        "\n",
        "## Load the pre-trained checkpoint from disk.\n",
        "device = 'cuda' #@param ['cuda', 'cpu'] {'type':'string'}\n",
        "ckpt = torch.load('ckpt.pth', map_location=device)\n",
        "score_model.load_state_dict(ckpt)\n",
        "\n",
        "noise_scale_func = functools.partial(noise_scale, sigma_min=sigma_min, sigma_max=sigma_max, grad=True)\n",
        "sample_batch_size = 64 #@param {'type':'integer'}\n",
        "sampler = pc_sampler #@param ['sde_sampler', 'pc_sampler', 'ode_sampler'] {'type': 'raw'}\n",
        "\n",
        "## Generate samples using the specified sampler.\n",
        "samples = sampler(score_model, noise_scale_func, sample_batch_size, device=device)\n",
        "\n",
        "## Sample visualization.\n",
        "samples = samples.clamp(0.0, 1.0)\n",
        "import matplotlib.pyplot as plt\n",
        "sample_grid = make_grid(samples, nrow=int(np.sqrt(sample_batch_size)))\n",
        "\n",
        "plt.figure(figsize=(6,6))\n",
        "plt.axis('off')\n",
        "plt.imshow(sample_grid.permute(1, 2, 0).cpu(), vmin=0., vmax=1.)\n",
        "plt.show()"
      ],
      "execution_count": 7,
      "outputs": [
        {
          "output_type": "display_data",
          "data": {
            "text/plain": [
              "  0%|          | 0/500 [00:00<?, ?it/s]"
            ],
            "application/vnd.jupyter.widget-view+json": {
              "version_major": 2,
              "version_minor": 0,
              "model_id": "c6bb397c4462492ea5a1317feb4c287e"
            }
          },
          "metadata": {}
        },
        {
          "output_type": "display_data",
          "data": {
            "text/plain": [
              "<Figure size 600x600 with 1 Axes>"
            ],
            "image/png": "[encoded data removed]"
          },
          "metadata": {}
        }
      ]
    },
    {
      "cell_type": "markdown",
      "metadata": {
        "id": "yC49nk6ZXqOS"
      },
      "source": [
        "## Likelihood Computation\n",
        "\n",
        "A by-product of the probability flow ODE formulation is likelihood computation. Suppose we have a differentiable one-to-one mapping $\\mathbf{h}$ that transforms a data sample $\\mathbf{x} \\sim p_0$ to a prior distribution $\\mathbf{h}(\\mathbf{x}) \\sim p_1$. We can compute the likelihood of $p_0(\\mathbf{x})$ via the following [change-of-variable formula](https://en.wikipedia.org/wiki/Probability_density_function#Function_of_random_variables_and_change_of_variables_in_the_probability_density_function)\n",
        "\\begin{align*}\n",
        "p_0(\\mathbf{x}) = p_1(\\mathbf{h}(\\mathbf{x})) |\\operatorname{det}(J_\\mathbf{h}(\\mathbf{x}))|,\n",
        "\\end{align*}\n",
        "where $J_\\mathbf{h}(\\mathbf{x})$ represents the Jacobian of the mapping $\\mathbf{h}$, and we assume it is efficient to evaluate the likelihood of the prior distribution $p_1$. \n",
        "\n",
        "Similarly, an ODE is also a one-to-one mapping from $\\mathbf{x}(0)$ to $\\mathbf{x}(1)$. For ODEs of the form\n",
        "\\begin{align*}\n",
        "d \\mathbf{x} = \\mathbf{f}(\\mathbf{x}, t) dt,\n",
        "\\end{align*}\n",
        "there exists an [instantaneous change-of-variable formula](https://arxiv.org/abs/1806.07366) that connects the probability of $p_0(\\mathbf{x})$ and $p_1(\\mathbf{x})$, given by\n",
        "\\begin{align*}\n",
        "p_0 (\\mathbf{x}(0)) = e^{\\int_0^1 \\operatorname{div} \\mathbf{f}(\\mathbf{x}(t), t) d t} p_1(\\mathbf{x}(1)),\n",
        "\\end{align*}\n",
        "where $\\operatorname{div}$ denotes the divergence function (trace of Jacobian). \n",
        "\n",
        "In practice, this divergence function can be hard to evaluate for general vector-valued function $\\mathbf{f}$, but we can use an unbiased estimator, named [Skilling-Hutchinson estimator](http://blog.shakirm.com/2015/09/machine-learning-trick-of-the-day-3-hutchinsons-trick/), to approximate the trace. Let $\\boldsymbol \\epsilon \\sim \\mathcal{N}(\\mathbf{0}, \\mathbf{I})$. The Skilling-Hutchinson estimator is based on the fact that\n",
        "\\begin{align*}\n",
        "\\operatorname{div} \\mathbf{f}(\\mathbf{x}) = \\mathbb{E}_{\\boldsymbol\\epsilon \\sim \\mathcal{N}(\\mathbf{0}, \\mathbf{I})}[\\boldsymbol\\epsilon^\\intercal  J_\\mathbf{f}(\\mathbf{x}) \\boldsymbol\\epsilon].\n",
        "\\end{align*}\n",
        "Therefore, we can simply sample a random vector $\\boldsymbol \\epsilon \\sim \\mathcal{N}(\\mathbf{0}, \\mathbf{I})$, and then use $\\boldsymbol \\epsilon^\\intercal J_\\mathbf{f}(\\mathbf{x}) \\boldsymbol \\epsilon$ to estimate the divergence of $\\mathbf{f}(\\mathbf{x})$. This estimator only requires computing the Jacobian-vector product $J_\\mathbf{f}(\\mathbf{x})\\boldsymbol \\epsilon$, which is typically efficient.\n",
        "\n",
        "As a result, for our probability flow ODE, we can compute the (log) data likelihood with the following\n",
        "\\begin{align*}\n",
        "\\log p_0(\\mathbf{x}(0)) = \\log p_1(\\mathbf{x}(1)) -\\frac{1}{2}\\int_0^1 \\frac{d[\\sigma^2(t)]}{dt} \\operatorname{div} s_\\theta(\\mathbf{x}(t), t) dt.\n",
        "\\end{align*}\n",
        "With the Skilling-Hutchinson estimator, we can compute the divergence via\n",
        "\\begin{align*}\n",
        "\\operatorname{div} s_\\theta(\\mathbf{x}(t), t) = \\mathbb{E}_{\\boldsymbol\\epsilon \\sim \\mathcal{N}(\\mathbf{0}, \\mathbf{I})}[\\boldsymbol\\epsilon^\\intercal  J_{s_\\theta}(\\mathbf{x}(t), t) \\boldsymbol\\epsilon].\n",
        "\\end{align*}\n",
        "Afterwards, we can compute the integral with numerical integrators. This gives us an unbiased estimate to the true data likelihood, and we can make it more and more accurate when we run it multiple times and take the average. The numerical integrator requires $\\mathbf{x}(t)$ as a function of $t$, which can be obtained by solving the original probability flow ODE."
      ]
    },
    {
      "cell_type": "code",
      "metadata": {
        "id": "DfOkg5jBZcjF",
        "cellView": "form"
      },
      "source": [
        "#@title Likelihood function (double click to expand or collapse)\n",
        "\n",
        "def prior_likelihood(z, sigma):\n",
        "  \"\"\"The likelihood of a Gaussian distribution with mean zero and \n",
        "      standard deviation sigma.\"\"\"\n",
        "  shape = z.shape\n",
        "  N = np.prod(shape[1:])\n",
        "  return -N / 2. * torch.log(2*np.pi*sigma**2) - torch.sum(z**2, dim=(1,2,3)) / (2 * sigma**2)\n",
        "\n",
        "def ode_likelihood(x, score_model, noise_scale, batch_size=64, device='cuda'):\n",
        "\n",
        "  # Draw the random Gaussian sample for Skilling-Hutchinson's estimator.\n",
        "  epsilon = torch.randn_like(x)\n",
        "      \n",
        "  def divergence_eval(sample, time_steps, epsilon):      \n",
        "    \"\"\"Compute the divergence of the score-based model with Skilling-Hutchinson.\"\"\"\n",
        "    with torch.enable_grad():\n",
        "      sample.requires_grad_(True)\n",
        "      score_e = torch.sum(score_model(sample, time_steps) * epsilon)\n",
        "      grad_score_e = torch.autograd.grad(score_e, sample)[0]\n",
        "    return torch.sum(grad_score_e * epsilon, dim=(1, 2, 3))    \n",
        "  \n",
        "  shape = x.shape\n",
        "\n",
        "  def score_eval_wrapper(sample, time_steps):\n",
        "    \"\"\"A wrapper for evaluating the score-based model for the black-box ODE solver.\"\"\"\n",
        "    sample = torch.tensor(sample, device=device, dtype=torch.float32).reshape(shape)\n",
        "    time_steps = torch.tensor(time_steps, device=device, dtype=torch.float32).reshape((sample.shape[0], ))    \n",
        "    with torch.no_grad():    \n",
        "      score = score_model(sample, time_steps)\n",
        "    return score.cpu().numpy().reshape((-1,)).astype(np.float64)\n",
        "  \n",
        "  def divergence_eval_wrapper(sample, time_steps):\n",
        "    \"\"\"A wrapper for evaluating the divergence of score for the black-box ODE solver.\"\"\"\n",
        "    with torch.no_grad():\n",
        "      # Obtain x(t) by solving the probability flow ODE.\n",
        "      sample = torch.tensor(sample, device=device, dtype=torch.float32).reshape(shape)\n",
        "      time_steps = torch.tensor(time_steps, device=device, dtype=torch.float32).reshape((sample.shape[0], ))    \n",
        "      # Compute likelihood.\n",
        "      div = divergence_eval(sample, time_steps, epsilon)\n",
        "      return div.cpu().numpy().reshape((-1,)).astype(np.float64)\n",
        "  \n",
        "  def ode_func(t, x):\n",
        "    \"\"\"The ODE function for the black-box solver.\"\"\"\n",
        "    time_steps = np.ones((shape[0],)) * t    \n",
        "    sample = x[:-shape[0]]\n",
        "    logp = x[-shape[0]:]\n",
        "    sample_grad = -0.5 * noise_scale(torch.tensor(t))[1].cpu().numpy() * score_eval_wrapper(sample, time_steps)\n",
        "    logp_grad = -0.5 * noise_scale(torch.tensor(t))[1].cpu().numpy() * divergence_eval_wrapper(sample, time_steps)\n",
        "    return np.concatenate([sample_grad, logp_grad], axis=0)\n",
        "\n",
        "  init = np.concatenate([x.cpu().numpy().reshape((-1,)), np.zeros((shape[0],))], axis=0)\n",
        "  # Black-box ODE solver\n",
        "  res = integrate.solve_ivp(ode_func, (1e-3, 1.), init, rtol=1e-5, atol=1e-5, method='RK45')  \n",
        "  zp = torch.tensor(res.y[:, -1], device=device)\n",
        "  z = zp[:-shape[0]].reshape(shape)\n",
        "  delta_logp = zp[-shape[0]:].reshape(shape[0])\n",
        "  sigma_max = noise_scale(torch.ones((), device=device))[0]\n",
        "  prior_logp = prior_likelihood(z, sigma_max)\n",
        "  bpd = -(prior_logp + delta_logp) / np.log(2)\n",
        "  N = np.prod(shape[1:])\n",
        "  bpd = bpd / N + 8.\n",
        "  return z, bpd"
      ],
      "execution_count": 8,
      "outputs": []
    },
    {
      "cell_type": "code",
      "metadata": {
        "id": "0H1Rq5DTmW8o",
        "cellView": "form",
        "colab": {
          "base_uri": "https://localhost:8080/"
        },
        "outputId": "2b269f96-5cbc-450c-b9bf-cfe270632ada"
      },
      "source": [
        "#@title Computing likelihood on the dataset (double click to expand or collapse)\n",
        "\n",
        "device = 'cuda' #@param ['cuda', 'cpu'] {'type':'string'}\n",
        "\n",
        "ckpt = torch.load('ckpt.pth', map_location=device)\n",
        "score_model.load_state_dict(ckpt)\n",
        "\n",
        "noise_scale_func = functools.partial(noise_scale, sigma_min=sigma_min, sigma_max=sigma_max, grad=True)\n",
        "\n",
        "all_bpds = 0.\n",
        "all_items = 0\n",
        "try:\n",
        "  for x, _ in tqdm.notebook.tqdm(data_loader):\n",
        "    x = x.to(device)\n",
        "    # uniform dequantization\n",
        "    x = (x * 255. + torch.rand_like(x)) / 256.    \n",
        "    _, bpd = ode_likelihood(x, score_model, noise_scale_func, x.shape[0], device=device)\n",
        "    all_bpds += bpd.sum()\n",
        "    all_items += bpd.shape[0]\n",
        "    print(f\"bpd (running average): {all_bpds / all_items}\")\n",
        "  print(f\"bpd (full average): {all_bpds/all_items}\")\n",
        "except KeyboardInterrupt:\n",
        "  # Remove the error message when interuptted by keyboard or GUI.\n",
        "  pass\n"
      ],
      "execution_count": null,
      "outputs": [
        {
          "output_type": "display_data",
          "data": {
            "text/plain": [
              "  0%|          | 0/1875 [00:00<?, ?it/s]"
            ],
            "application/vnd.jupyter.widget-view+json": {
              "version_major": 2,
              "version_minor": 0,
              "model_id": "ed69aaa3e8504662bcb825ea0147d810"
            }
          },
          "metadata": {}
        },
        {
          "output_type": "stream",
          "name": "stderr",
          "text": [
            "/usr/local/lib/python3.9/dist-packages/torch/utils/data/dataloader.py:554: UserWarning: This DataLoader will create 4 worker processes in total. Our suggested max number of worker in current system is 2, which is smaller than what this DataLoader is going to create. Please be aware that excessive worker creation might get DataLoader running slow or even freeze, lower the worker number to avoid potential slowness/freeze if necessary.\n",
            "  warnings.warn(_create_warning_msg(\n"
          ]
        },
        {
          "output_type": "stream",
          "name": "stdout",
          "text": [
            "bpd (running average): 2.2212211178294385\n",
            "bpd (running average): 2.1593943445294044\n",
            "bpd (running average): 2.1912641352511866\n",
            "bpd (running average): 2.255328355896326\n",
            "bpd (running average): 2.231488839887771\n",
            "bpd (running average): 2.243327519275447\n",
            "bpd (running average): 2.2369287339536066\n",
            "bpd (running average): 2.228635790916932\n",
            "bpd (running average): 2.2378849650046044\n",
            "bpd (running average): 2.2427757016458045\n",
            "bpd (running average): 2.2435889071476467\n",
            "bpd (running average): 2.2438271512046364\n",
            "bpd (running average): 2.23703223959534\n",
            "bpd (running average): 2.2341072407754297\n",
            "bpd (running average): 2.2306045191954436\n",
            "bpd (running average): 2.2402496873179705\n",
            "bpd (running average): 2.24229962147542\n",
            "bpd (running average): 2.2423828604900296\n",
            "bpd (running average): 2.242245918404955\n",
            "bpd (running average): 2.2458464689447246\n",
            "bpd (running average): 2.2416371037079856\n",
            "bpd (running average): 2.2498268831219344\n",
            "bpd (running average): 2.2508625368350743\n",
            "bpd (running average): 2.258880916363772\n",
            "bpd (running average): 2.2635145552370126\n",
            "bpd (running average): 2.2616641510514133\n",
            "bpd (running average): 2.263946621129645\n",
            "bpd (running average): 2.2574185877408297\n",
            "bpd (running average): 2.257293173880502\n",
            "bpd (running average): 2.260561442386114\n",
            "bpd (running average): 2.266075623155857\n",
            "bpd (running average): 2.2722467413660716\n",
            "bpd (running average): 2.262628053000127\n",
            "bpd (running average): 2.2591065366815153\n",
            "bpd (running average): 2.2614305384533706\n",
            "bpd (running average): 2.2581908363815906\n",
            "bpd (running average): 2.2585467571390994\n",
            "bpd (running average): 2.2584388486540985\n",
            "bpd (running average): 2.257654386011996\n",
            "bpd (running average): 2.2557301393077274\n",
            "bpd (running average): 2.2558259284305735\n",
            "bpd (running average): 2.255784412569667\n",
            "bpd (running average): 2.2597468880017924\n",
            "bpd (running average): 2.26123602111004\n",
            "bpd (running average): 2.2584986525388198\n",
            "bpd (running average): 2.2552212547360404\n",
            "bpd (running average): 2.257791736700954\n",
            "bpd (running average): 2.259656646505487\n",
            "bpd (running average): 2.2633940533697086\n",
            "bpd (running average): 2.259917830357862\n",
            "bpd (running average): 2.2578191477786045\n",
            "bpd (running average): 2.2617524747993216\n",
            "bpd (running average): 2.266234775833085\n",
            "bpd (running average): 2.2694635759322077\n",
            "bpd (running average): 2.2682453806488954\n",
            "bpd (running average): 2.2710440858594496\n",
            "bpd (running average): 2.270093585791841\n",
            "bpd (running average): 2.2685802125120778\n",
            "bpd (running average): 2.269734812213221\n",
            "bpd (running average): 2.2671524976488566\n",
            "bpd (running average): 2.2690849355499303\n",
            "bpd (running average): 2.2712426193477664\n",
            "bpd (running average): 2.2695813158353935\n",
            "bpd (running average): 2.271154371651336\n",
            "bpd (running average): 2.2694298828595736\n",
            "bpd (running average): 2.2674114659145546\n",
            "bpd (running average): 2.2658683381431333\n",
            "bpd (running average): 2.265773691365291\n",
            "bpd (running average): 2.2639580646711703\n",
            "bpd (running average): 2.2631394311692503\n",
            "bpd (running average): 2.2634256112040356\n",
            "bpd (running average): 2.2640202102239795\n",
            "bpd (running average): 2.2640090203177126\n",
            "bpd (running average): 2.261186540055965\n",
            "bpd (running average): 2.2638632105630534\n",
            "bpd (running average): 2.263479467867199\n",
            "bpd (running average): 2.2631610326754745\n",
            "bpd (running average): 2.2624537364157855\n",
            "bpd (running average): 2.262548373144461\n",
            "bpd (running average): 2.2611990263998853\n",
            "bpd (running average): 2.259842458889856\n",
            "bpd (running average): 2.261499034910872\n",
            "bpd (running average): 2.261548509057435\n",
            "bpd (running average): 2.261493013458908\n",
            "bpd (running average): 2.2591702559752216\n",
            "bpd (running average): 2.2607626681064397\n",
            "bpd (running average): 2.2626796573707475\n",
            "bpd (running average): 2.2599842999133366\n",
            "bpd (running average): 2.262250290271255\n",
            "bpd (running average): 2.2598060818101238\n",
            "bpd (running average): 2.2605183268667086\n",
            "bpd (running average): 2.2581161752294\n",
            "bpd (running average): 2.2566319679792377\n",
            "bpd (running average): 2.2575014337887422\n",
            "bpd (running average): 2.257493383690149\n",
            "bpd (running average): 2.2595988080602796\n",
            "bpd (running average): 2.2601368248207048\n",
            "bpd (running average): 2.2599229410601596\n",
            "bpd (running average): 2.261808125110216\n",
            "bpd (running average): 2.2619080093143693\n",
            "bpd (running average): 2.2605872262705806\n",
            "bpd (running average): 2.2606989484812003\n",
            "bpd (running average): 2.2625929331614554\n",
            "bpd (running average): 2.2626463467759157\n",
            "bpd (running average): 2.2631635306685274\n",
            "bpd (running average): 2.2646021898549233\n",
            "bpd (running average): 2.2638741665662065\n",
            "bpd (running average): 2.262057443937286\n",
            "bpd (running average): 2.2643479708745002\n",
            "bpd (running average): 2.26335932452602\n",
            "bpd (running average): 2.26474223614764\n",
            "bpd (running average): 2.2645028412171833\n",
            "bpd (running average): 2.2639948603560347\n",
            "bpd (running average): 2.2628269477746503\n",
            "bpd (running average): 2.2648256504877313\n",
            "bpd (running average): 2.262015295716024\n",
            "bpd (running average): 2.2620014971481783\n",
            "bpd (running average): 2.2609209578714227\n",
            "bpd (running average): 2.261838984918764\n",
            "bpd (running average): 2.2639476318731075\n",
            "bpd (running average): 2.263808220141526\n",
            "bpd (running average): 2.264273273428546\n",
            "bpd (running average): 2.264279759174832\n",
            "bpd (running average): 2.264654328575856\n",
            "bpd (running average): 2.265164290329557\n",
            "bpd (running average): 2.2643517477141475\n",
            "bpd (running average): 2.263741526621768\n",
            "bpd (running average): 2.2652901189982186\n",
            "bpd (running average): 2.264318537430327\n",
            "bpd (running average): 2.2659806970157375\n",
            "bpd (running average): 2.2659725446571453\n",
            "bpd (running average): 2.264978760039282\n",
            "bpd (running average): 2.2662828473883376\n",
            "bpd (running average): 2.266129829200231\n",
            "bpd (running average): 2.2646410787965845\n",
            "bpd (running average): 2.262812244557977\n",
            "bpd (running average): 2.2644604593920405\n",
            "bpd (running average): 2.2640785491713538\n",
            "bpd (running average): 2.264923658967237\n",
            "bpd (running average): 2.265459059106502\n",
            "bpd (running average): 2.266397814970551\n",
            "bpd (running average): 2.266211077637335\n",
            "bpd (running average): 2.2670005069682593\n",
            "bpd (running average): 2.2670127299689047\n",
            "bpd (running average): 2.267068827553153\n",
            "bpd (running average): 2.266818847955037\n",
            "bpd (running average): 2.266497780340122\n",
            "bpd (running average): 2.2667556001639952\n",
            "bpd (running average): 2.266597444697334\n",
            "bpd (running average): 2.267241108443129\n",
            "bpd (running average): 2.2672944075903483\n",
            "bpd (running average): 2.2679284364046266\n",
            "bpd (running average): 2.2675281826669083\n",
            "bpd (running average): 2.26750783229719\n",
            "bpd (running average): 2.2676835424551873\n",
            "bpd (running average): 2.267999649367669\n",
            "bpd (running average): 2.267967132281548\n",
            "bpd (running average): 2.2669470695989307\n",
            "bpd (running average): 2.268026661699654\n",
            "bpd (running average): 2.2678613737953266\n",
            "bpd (running average): 2.2677465813098574\n",
            "bpd (running average): 2.267128631180307\n",
            "bpd (running average): 2.267580234734364\n",
            "bpd (running average): 2.2666619046380125\n",
            "bpd (running average): 2.2683548066117933\n",
            "bpd (running average): 2.2685242518950273\n",
            "bpd (running average): 2.26867958725936\n",
            "bpd (running average): 2.2688741103562764\n",
            "bpd (running average): 2.2694210902127874\n",
            "bpd (running average): 2.2695660237555537\n",
            "bpd (running average): 2.27009911828388\n",
            "bpd (running average): 2.2700446374488843\n",
            "bpd (running average): 2.2701720841019797\n",
            "bpd (running average): 2.271070751109471\n",
            "bpd (running average): 2.271778698207218\n",
            "bpd (running average): 2.2729052078602794\n",
            "bpd (running average): 2.271432823673007\n",
            "bpd (running average): 2.2712145527975545\n",
            "bpd (running average): 2.272213714254238\n",
            "bpd (running average): 2.273010269791599\n",
            "bpd (running average): 2.2723809797825263\n",
            "bpd (running average): 2.272846323762968\n",
            "bpd (running average): 2.2723711153780632\n",
            "bpd (running average): 2.2717414205475244\n",
            "bpd (running average): 2.2731033533147476\n",
            "bpd (running average): 2.2732418837062403\n",
            "bpd (running average): 2.2737423129853185\n",
            "bpd (running average): 2.2732316769064282\n",
            "bpd (running average): 2.2729627743992356\n",
            "bpd (running average): 2.2724520650231965\n",
            "bpd (running average): 2.272194842184853\n",
            "bpd (running average): 2.2720987472809515\n",
            "bpd (running average): 2.272085852205808\n",
            "bpd (running average): 2.2715238517963696\n",
            "bpd (running average): 2.270833497517279\n",
            "bpd (running average): 2.2700451068678387\n",
            "bpd (running average): 2.269163630694591\n",
            "bpd (running average): 2.268988725450817\n",
            "bpd (running average): 2.2687179915950937\n",
            "bpd (running average): 2.268838940984491\n",
            "bpd (running average): 2.268589861348051\n",
            "bpd (running average): 2.2688619300236943\n",
            "bpd (running average): 2.2698354040359447\n",
            "bpd (running average): 2.270284054529991\n",
            "bpd (running average): 2.270628964168702\n",
            "bpd (running average): 2.2703564577165234\n",
            "bpd (running average): 2.26998317800037\n",
            "bpd (running average): 2.2698075214259568\n",
            "bpd (running average): 2.2696683450695194\n",
            "bpd (running average): 2.2692525680072198\n",
            "bpd (running average): 2.2694627886054946\n",
            "bpd (running average): 2.2699842106081762\n",
            "bpd (running average): 2.2706064073344923\n",
            "bpd (running average): 2.2702775910034876\n",
            "bpd (running average): 2.2698504492910105\n",
            "bpd (running average): 2.2701775169874696\n",
            "bpd (running average): 2.2696466297725117\n",
            "bpd (running average): 2.270850230155756\n",
            "bpd (running average): 2.271019355962454\n",
            "bpd (running average): 2.2714817780288676\n",
            "bpd (running average): 2.2703050859402514\n",
            "bpd (running average): 2.269545126630464\n",
            "bpd (running average): 2.269749772793596\n",
            "bpd (running average): 2.270487028840218\n",
            "bpd (running average): 2.269515076398972\n",
            "bpd (running average): 2.270596852113102\n",
            "bpd (running average): 2.2697894569743147\n",
            "bpd (running average): 2.2699111724974834\n",
            "bpd (running average): 2.269410104474935\n",
            "bpd (running average): 2.2688951547520806\n",
            "bpd (running average): 2.2688922054353133\n",
            "bpd (running average): 2.268255811527955\n",
            "bpd (running average): 2.2676959328617743\n",
            "bpd (running average): 2.2678678998366344\n",
            "bpd (running average): 2.2671607123341384\n",
            "bpd (running average): 2.2663923506130077\n",
            "bpd (running average): 2.266665543465176\n",
            "bpd (running average): 2.266909677719629\n",
            "bpd (running average): 2.2666427034645524\n",
            "bpd (running average): 2.265736800259255\n",
            "bpd (running average): 2.266229656341764\n",
            "bpd (running average): 2.2666360897246873\n",
            "bpd (running average): 2.266522042290242\n",
            "bpd (running average): 2.266331207365431\n",
            "bpd (running average): 2.2660005968118675\n",
            "bpd (running average): 2.2663921092466315\n",
            "bpd (running average): 2.2673953534030056\n",
            "bpd (running average): 2.267844892256395\n",
            "bpd (running average): 2.268433257735379\n",
            "bpd (running average): 2.267859124824292\n",
            "bpd (running average): 2.2681069719357185\n",
            "bpd (running average): 2.2676764283748354\n",
            "bpd (running average): 2.267351236312852\n",
            "bpd (running average): 2.267214548209107\n",
            "bpd (running average): 2.267388171565481\n",
            "bpd (running average): 2.2666488895746992\n",
            "bpd (running average): 2.2663904211553656\n",
            "bpd (running average): 2.265602303461539\n",
            "bpd (running average): 2.26556343396791\n",
            "bpd (running average): 2.264671799697695\n",
            "bpd (running average): 2.2645992686471037\n",
            "bpd (running average): 2.2652616617329886\n",
            "bpd (running average): 2.265777619344198\n",
            "bpd (running average): 2.265345749722295\n",
            "bpd (running average): 2.2661052492986675\n",
            "bpd (running average): 2.266550417635227\n",
            "bpd (running average): 2.265709492555407\n",
            "bpd (running average): 2.265761664145208\n",
            "bpd (running average): 2.26524468233728\n",
            "bpd (running average): 2.2660610198084905\n",
            "bpd (running average): 2.2661866969342634\n",
            "bpd (running average): 2.265413738602178\n",
            "bpd (running average): 2.265759932292809\n",
            "bpd (running average): 2.2657034306767136\n",
            "bpd (running average): 2.2656505316707727\n",
            "bpd (running average): 2.2653061750748282\n",
            "bpd (running average): 2.2660435167338866\n",
            "bpd (running average): 2.266012532245527\n",
            "bpd (running average): 2.2662441925991916\n",
            "bpd (running average): 2.2663298643598804\n",
            "bpd (running average): 2.2663304109585853\n",
            "bpd (running average): 2.265804655263753\n",
            "bpd (running average): 2.265752753338286\n",
            "bpd (running average): 2.265831286687658\n",
            "bpd (running average): 2.266547821175893\n",
            "bpd (running average): 2.2658695839999097\n",
            "bpd (running average): 2.265496798890298\n",
            "bpd (running average): 2.2651804595354093\n",
            "bpd (running average): 2.2646907603357684\n",
            "bpd (running average): 2.2647477846256043\n",
            "bpd (running average): 2.265124498060967\n",
            "bpd (running average): 2.26460459378182\n",
            "bpd (running average): 2.2650061914871653\n",
            "bpd (running average): 2.26502808523513\n",
            "bpd (running average): 2.264941285493318\n",
            "bpd (running average): 2.264901847445656\n",
            "bpd (running average): 2.2647734100454864\n",
            "bpd (running average): 2.263788746312527\n",
            "bpd (running average): 2.2636913063673556\n",
            "bpd (running average): 2.263668819665549\n",
            "bpd (running average): 2.2626174434124255\n",
            "bpd (running average): 2.2632201134283294\n",
            "bpd (running average): 2.2628547864686626\n",
            "bpd (running average): 2.2626233780326794\n",
            "bpd (running average): 2.2625753523651078\n",
            "bpd (running average): 2.2634033596915013\n",
            "bpd (running average): 2.2638235513487253\n",
            "bpd (running average): 2.264314839259462\n",
            "bpd (running average): 2.2648823689160578\n",
            "bpd (running average): 2.2654910280147673\n",
            "bpd (running average): 2.265615770972421\n",
            "bpd (running average): 2.265240461762274\n",
            "bpd (running average): 2.2649861679693624\n",
            "bpd (running average): 2.2653317069868573\n",
            "bpd (running average): 2.2666443183433227\n",
            "bpd (running average): 2.2666145963299087\n",
            "bpd (running average): 2.2667260596027345\n",
            "bpd (running average): 2.266575019533861\n",
            "bpd (running average): 2.2666501571503677\n",
            "bpd (running average): 2.2665748882961743\n",
            "bpd (running average): 2.2670545643017395\n",
            "bpd (running average): 2.267197210277137\n",
            "bpd (running average): 2.2675689927248226\n",
            "bpd (running average): 2.2673932492292517\n",
            "bpd (running average): 2.267256940665068\n",
            "bpd (running average): 2.2669433128133583\n",
            "bpd (running average): 2.267256325672012\n",
            "bpd (running average): 2.2671701883734126\n",
            "bpd (running average): 2.2670146576193386\n",
            "bpd (running average): 2.267228505494066\n",
            "bpd (running average): 2.2672465639624466\n",
            "bpd (running average): 2.2672676519197954\n",
            "bpd (running average): 2.2674373974831785\n",
            "bpd (running average): 2.2682668081501287\n",
            "bpd (running average): 2.268013298976641\n",
            "bpd (running average): 2.2685236380650795\n",
            "bpd (running average): 2.2680025927822705\n",
            "bpd (running average): 2.2679920944053245\n",
            "bpd (running average): 2.266685021686222\n",
            "bpd (running average): 2.267149346763938\n",
            "bpd (running average): 2.2670081307252863\n",
            "bpd (running average): 2.2676662473381812\n",
            "bpd (running average): 2.2674185927053263\n",
            "bpd (running average): 2.267151742791151\n",
            "bpd (running average): 2.2672204252141777\n",
            "bpd (running average): 2.2678834097639156\n",
            "bpd (running average): 2.2679985556545756\n",
            "bpd (running average): 2.2678410706989216\n",
            "bpd (running average): 2.2680881013426153\n",
            "bpd (running average): 2.2677812703235123\n",
            "bpd (running average): 2.267759455353797\n",
            "bpd (running average): 2.2681296591933497\n",
            "bpd (running average): 2.268534305860597\n",
            "bpd (running average): 2.269252909102094\n",
            "bpd (running average): 2.2697912418223156\n",
            "bpd (running average): 2.269925548894949\n",
            "bpd (running average): 2.270275114138812\n",
            "bpd (running average): 2.2702605850387414\n",
            "bpd (running average): 2.2697604631309827\n",
            "bpd (running average): 2.2698405619639335\n",
            "bpd (running average): 2.2698849138757646\n",
            "bpd (running average): 2.2693820206187576\n",
            "bpd (running average): 2.2696344560873896\n",
            "bpd (running average): 2.26948259989098\n",
            "bpd (running average): 2.270008641012134\n",
            "bpd (running average): 2.2699245283628886\n",
            "bpd (running average): 2.269787459547534\n",
            "bpd (running average): 2.2698633715713137\n",
            "bpd (running average): 2.269896650125502\n",
            "bpd (running average): 2.2702078369501644\n",
            "bpd (running average): 2.2706362807711495\n",
            "bpd (running average): 2.269978894951471\n",
            "bpd (running average): 2.2702029017628504\n",
            "bpd (running average): 2.2704993868715104\n",
            "bpd (running average): 2.27040285582509\n",
            "bpd (running average): 2.270428371972156\n",
            "bpd (running average): 2.2700593216438496\n",
            "bpd (running average): 2.2701308801670947\n",
            "bpd (running average): 2.269932344626905\n",
            "bpd (running average): 2.270039885892631\n",
            "bpd (running average): 2.2699426126426627\n",
            "bpd (running average): 2.2703199280630604\n",
            "bpd (running average): 2.2704641879277307\n",
            "bpd (running average): 2.270649395598664\n",
            "bpd (running average): 2.2710793535219977\n",
            "bpd (running average): 2.2710541622084657\n",
            "bpd (running average): 2.270998588145541\n",
            "bpd (running average): 2.2712077272700126\n",
            "bpd (running average): 2.2717974961151426\n",
            "bpd (running average): 2.271717188300887\n",
            "bpd (running average): 2.2718185896938734\n",
            "bpd (running average): 2.2717503758945976\n",
            "bpd (running average): 2.2714917998637802\n",
            "bpd (running average): 2.27100346749093\n",
            "bpd (running average): 2.271379390784442\n",
            "bpd (running average): 2.2720226217954798\n",
            "bpd (running average): 2.271734838995815\n",
            "bpd (running average): 2.2717396061550272\n",
            "bpd (running average): 2.2716682825331236\n",
            "bpd (running average): 2.271695646821276\n",
            "bpd (running average): 2.2717379278022114\n",
            "bpd (running average): 2.2720244101859497\n",
            "bpd (running average): 2.272086715600547\n",
            "bpd (running average): 2.271862319808603\n",
            "bpd (running average): 2.2712155491636032\n",
            "bpd (running average): 2.2707679786415644\n",
            "bpd (running average): 2.2707150710024036\n",
            "bpd (running average): 2.2708990056069807\n",
            "bpd (running average): 2.2707654110644144\n",
            "bpd (running average): 2.270984740138002\n",
            "bpd (running average): 2.27155926287277\n",
            "bpd (running average): 2.2716514642507737\n",
            "bpd (running average): 2.271700841888908\n",
            "bpd (running average): 2.271899650672429\n",
            "bpd (running average): 2.272066486851361\n",
            "bpd (running average): 2.271605578994907\n",
            "bpd (running average): 2.271435904116986\n",
            "bpd (running average): 2.2712879621532407\n",
            "bpd (running average): 2.27164322578432\n",
            "bpd (running average): 2.271648259828871\n",
            "bpd (running average): 2.27174280971034\n",
            "bpd (running average): 2.271793023536191\n",
            "bpd (running average): 2.272201881579746\n",
            "bpd (running average): 2.272118505554499\n",
            "bpd (running average): 2.272192389459185\n",
            "bpd (running average): 2.2720111507032166\n",
            "bpd (running average): 2.2720341187665962\n",
            "bpd (running average): 2.271916322874636\n",
            "bpd (running average): 2.272126252933508\n",
            "bpd (running average): 2.2717229820047216\n",
            "bpd (running average): 2.271724098590539\n",
            "bpd (running average): 2.2714425265029927\n",
            "bpd (running average): 2.2713982760753284\n",
            "bpd (running average): 2.271743652958924\n",
            "bpd (running average): 2.272453675409039\n",
            "bpd (running average): 2.272381988703307\n",
            "bpd (running average): 2.272760317438594\n",
            "bpd (running average): 2.2726052278683766\n",
            "bpd (running average): 2.272205106535037\n",
            "bpd (running average): 2.272416319094944\n",
            "bpd (running average): 2.272746892546773\n",
            "bpd (running average): 2.2728237840732066\n",
            "bpd (running average): 2.27272813958595\n",
            "bpd (running average): 2.2729934192911716\n",
            "bpd (running average): 2.273020956972125\n",
            "bpd (running average): 2.2728399273039255\n",
            "bpd (running average): 2.2726995370241823\n"
          ]
        }
      ]
    },
    {
      "cell_type": "markdown",
      "metadata": {
        "id": "mHsx75Yft-6u"
      },
      "source": [
        "## Further Resources\n",
        "\n",
        "If you're interested in learning more about score-based generative models, the following papers would be a good start:\n",
        "\n",
        "*   Yang Song, and Stefano Ermon. \"[Generative modeling by estimating gradients of the data distribution.](https://arxiv.org/pdf/1907.05600.pdf)\" Advances in Neural Information Processing Systems. 2019.\n",
        "*    Yang Song, and Stefano Ermon. \"[Improved Techniques for Training Score-Based Generative Models.](https://arxiv.org/pdf/2006.09011.pdf)\" Advances in Neural Information Processing Systems. 2020.\n",
        "* Jonathan Ho, Ajay Jain, and Pieter Abbeel. \"[Denoising diffusion probabilistic models.](https://arxiv.org/pdf/2006.11239.pdf)\" Advances in Neural Information Processing Systems. 2020."
      ]
    }
  ]
}